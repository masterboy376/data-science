{
  "metadata": {
    "language_info": {
      "codemirror_mode": {
        "name": "python",
        "version": 3
      },
      "file_extension": ".py",
      "mimetype": "text/x-python",
      "name": "python",
      "nbconvert_exporter": "python",
      "pygments_lexer": "ipython3",
      "version": "3.8"
    },
    "kernelspec": {
      "name": "python",
      "display_name": "Python (Pyodide)",
      "language": "python"
    }
  },
  "nbformat_minor": 4,
  "nbformat": 4,
  "cells": [
    {
      "cell_type": "code",
      "source": "import piplite\nawait piplite.install('seaborn')\nimport numpy as np\nimport pandas as pd\nimport matplotlib.pyplot as plt\nimport seaborn as sns\nfrom sklearn.impute import SimpleImputer\nfrom sklearn.compose import ColumnTransformer\nfrom sklearn.pipeline import Pipeline",
      "metadata": {
        "trusted": true
      },
      "execution_count": 1,
      "outputs": []
    },
    {
      "cell_type": "code",
      "source": "# load dataset\ndt=pd.read_csv(\"./budget.csv\")\ndt.shape",
      "metadata": {
        "trusted": true
      },
      "execution_count": 2,
      "outputs": [
        {
          "execution_count": 2,
          "output_type": "execute_result",
          "data": {
            "text/plain": "(264, 63)"
          },
          "metadata": {}
        }
      ]
    },
    {
      "cell_type": "code",
      "source": "is_null_sum=dt.isnull().sum()",
      "metadata": {
        "trusted": true
      },
      "execution_count": 6,
      "outputs": []
    },
    {
      "cell_type": "code",
      "source": "num_var=dt.select_dtypes(include=['int64', 'float64']).columns\nnum_var_miss = [var for var in num_var if is_null_sum[var]>0]",
      "metadata": {
        "trusted": true
      },
      "execution_count": 7,
      "outputs": []
    },
    {
      "cell_type": "code",
      "source": "num_var_miss",
      "metadata": {
        "trusted": true
      },
      "execution_count": 8,
      "outputs": [
        {
          "execution_count": 8,
          "output_type": "execute_result",
          "data": {
            "text/plain": "['1960',\n '1961',\n '1962',\n '1963',\n '1964',\n '1965',\n '1966',\n '1967',\n '1968',\n '1969',\n '1970',\n '1971',\n '1972',\n '1973',\n '1974',\n '1975',\n '1976',\n '1977',\n '1978',\n '1979',\n '1980',\n '1981',\n '1982',\n '1983',\n '1984',\n '1985',\n '1986',\n '1987',\n '1988',\n '1989',\n '1990',\n '1991',\n '1992',\n '1993',\n '1994',\n '1995',\n '1996',\n '1997',\n '1998',\n '1999',\n '2000',\n '2001',\n '2002',\n '2003',\n '2004',\n '2005',\n '2006',\n '2007',\n '2008',\n '2009',\n '2010',\n '2011',\n '2012',\n '2013',\n '2014',\n '2015',\n '2016',\n '2017',\n '2018']"
          },
          "metadata": {}
        }
      ]
    },
    {
      "cell_type": "code",
      "source": "num_var_mean=['1960',\n '1961',\n '1962',\n '1963',\n '1964',\n '1965',\n '1966',\n '1967',\n '1968',\n '1969',\n '1970',\n '1971',\n '1972',\n '1973',\n '1974']\nnum_var_median=['1975',\n '1976',\n '1977',\n '1978',\n '1979',\n '1980',\n '1981',\n '1982',\n '1983',\n '1984',\n '1985',\n '1986',\n '1987',\n '1988',\n '1989',\n '1990',\n '1991',\n '1992',\n '1993',\n '1994',\n '1995']\nnum_var_mode=['1996',\n '1997',\n '1998',\n '1999',\n '2000',\n '2001',\n '2002',\n '2003',\n '2004']\nnum_var_const=[\n '2005',\n '2006',\n '2007',\n '2008',\n '2009',\n '2010',\n '2011',\n '2012',\n '2013',\n '2014',\n '2015',\n '2016',\n '2017',\n '2018']",
      "metadata": {
        "trusted": true
      },
      "execution_count": 10,
      "outputs": []
    },
    {
      "cell_type": "code",
      "source": "num_var_mean_imputer = Pipeline(steps=[(\"imputer\", SimpleImputer(strategy=\"mean\"))])\nnum_var_median_imputer = Pipeline(steps=[(\"imputer\", SimpleImputer(strategy=\"median\"))])\nnum_var_mode_imputer = Pipeline(steps=[(\"imputer\", SimpleImputer(strategy=\"most_frequent\"))])\nnum_var_const_imputer = Pipeline(steps=[(\"imputer\", SimpleImputer(strategy=\"constant\", fill_value=0))])",
      "metadata": {
        "trusted": true
      },
      "execution_count": 11,
      "outputs": []
    },
    {
      "cell_type": "code",
      "source": "preProcessor=ColumnTransformer(transformers=[(\"mean_imputer\", num_var_mean_imputer, num_var_mean),(\"median_imputer\", num_var_median_imputer, num_var_median), (\"mode_imputer\",num_var_mode_imputer, num_var_mode), (\"const_imputer\", num_var_const_imputer, num_var_const)])",
      "metadata": {
        "trusted": true
      },
      "execution_count": 13,
      "outputs": []
    },
    {
      "cell_type": "code",
      "source": "preProcessor.fit(dt)",
      "metadata": {
        "trusted": true
      },
      "execution_count": 14,
      "outputs": [
        {
          "execution_count": 14,
          "output_type": "execute_result",
          "data": {
            "text/plain": "ColumnTransformer(transformers=[('mean_imputer',\n                                 Pipeline(steps=[('imputer', SimpleImputer())]),\n                                 ['1960', '1961', '1962', '1963', '1964',\n                                  '1965', '1966', '1967', '1968', '1969',\n                                  '1970', '1971', '1972', '1973', '1974']),\n                                ('median_imputer',\n                                 Pipeline(steps=[('imputer',\n                                                  SimpleImputer(strategy='median'))]),\n                                 ['1975', '1976', '1977', '1978', '1979',\n                                  '1980', '1981', '1982', '1983', '19...\n                                  '1995']),\n                                ('mode_imputer',\n                                 Pipeline(steps=[('imputer',\n                                                  SimpleImputer(strategy='most_frequent'))]),\n                                 ['1996', '1997', '1998', '1999', '2000',\n                                  '2001', '2002', '2003', '2004']),\n                                ('const_imputer',\n                                 Pipeline(steps=[('imputer',\n                                                  SimpleImputer(fill_value=0,\n                                                                strategy='constant'))]),\n                                 ['2005', '2006', '2007', '2008', '2009',\n                                  '2010', '2011', '2012', '2013', '2014',\n                                  '2015', '2016', '2017', '2018'])])",
            "text/html": "<style>#sk-container-id-1 {color: black;background-color: white;}#sk-container-id-1 pre{padding: 0;}#sk-container-id-1 div.sk-toggleable {background-color: white;}#sk-container-id-1 label.sk-toggleable__label {cursor: pointer;display: block;width: 100%;margin-bottom: 0;padding: 0.3em;box-sizing: border-box;text-align: center;}#sk-container-id-1 label.sk-toggleable__label-arrow:before {content: \"▸\";float: left;margin-right: 0.25em;color: #696969;}#sk-container-id-1 label.sk-toggleable__label-arrow:hover:before {color: black;}#sk-container-id-1 div.sk-estimator:hover label.sk-toggleable__label-arrow:before {color: black;}#sk-container-id-1 div.sk-toggleable__content {max-height: 0;max-width: 0;overflow: hidden;text-align: left;background-color: #f0f8ff;}#sk-container-id-1 div.sk-toggleable__content pre {margin: 0.2em;color: black;border-radius: 0.25em;background-color: #f0f8ff;}#sk-container-id-1 input.sk-toggleable__control:checked~div.sk-toggleable__content {max-height: 200px;max-width: 100%;overflow: auto;}#sk-container-id-1 input.sk-toggleable__control:checked~label.sk-toggleable__label-arrow:before {content: \"▾\";}#sk-container-id-1 div.sk-estimator input.sk-toggleable__control:checked~label.sk-toggleable__label {background-color: #d4ebff;}#sk-container-id-1 div.sk-label input.sk-toggleable__control:checked~label.sk-toggleable__label {background-color: #d4ebff;}#sk-container-id-1 input.sk-hidden--visually {border: 0;clip: rect(1px 1px 1px 1px);clip: rect(1px, 1px, 1px, 1px);height: 1px;margin: -1px;overflow: hidden;padding: 0;position: absolute;width: 1px;}#sk-container-id-1 div.sk-estimator {font-family: monospace;background-color: #f0f8ff;border: 1px dotted black;border-radius: 0.25em;box-sizing: border-box;margin-bottom: 0.5em;}#sk-container-id-1 div.sk-estimator:hover {background-color: #d4ebff;}#sk-container-id-1 div.sk-parallel-item::after {content: \"\";width: 100%;border-bottom: 1px solid gray;flex-grow: 1;}#sk-container-id-1 div.sk-label:hover label.sk-toggleable__label {background-color: #d4ebff;}#sk-container-id-1 div.sk-serial::before {content: \"\";position: absolute;border-left: 1px solid gray;box-sizing: border-box;top: 0;bottom: 0;left: 50%;z-index: 0;}#sk-container-id-1 div.sk-serial {display: flex;flex-direction: column;align-items: center;background-color: white;padding-right: 0.2em;padding-left: 0.2em;position: relative;}#sk-container-id-1 div.sk-item {position: relative;z-index: 1;}#sk-container-id-1 div.sk-parallel {display: flex;align-items: stretch;justify-content: center;background-color: white;position: relative;}#sk-container-id-1 div.sk-item::before, #sk-container-id-1 div.sk-parallel-item::before {content: \"\";position: absolute;border-left: 1px solid gray;box-sizing: border-box;top: 0;bottom: 0;left: 50%;z-index: -1;}#sk-container-id-1 div.sk-parallel-item {display: flex;flex-direction: column;z-index: 1;position: relative;background-color: white;}#sk-container-id-1 div.sk-parallel-item:first-child::after {align-self: flex-end;width: 50%;}#sk-container-id-1 div.sk-parallel-item:last-child::after {align-self: flex-start;width: 50%;}#sk-container-id-1 div.sk-parallel-item:only-child::after {width: 0;}#sk-container-id-1 div.sk-dashed-wrapped {border: 1px dashed gray;margin: 0 0.4em 0.5em 0.4em;box-sizing: border-box;padding-bottom: 0.4em;background-color: white;}#sk-container-id-1 div.sk-label label {font-family: monospace;font-weight: bold;display: inline-block;line-height: 1.2em;}#sk-container-id-1 div.sk-label-container {text-align: center;}#sk-container-id-1 div.sk-container {/* jupyter's `normalize.less` sets `[hidden] { display: none; }` but bootstrap.min.css set `[hidden] { display: none !important; }` so we also need the `!important` here to be able to override the default hidden behavior on the sphinx rendered scikit-learn.org. See: https://github.com/scikit-learn/scikit-learn/issues/21755 */display: inline-block !important;position: relative;}#sk-container-id-1 div.sk-text-repr-fallback {display: none;}</style><div id=\"sk-container-id-1\" class=\"sk-top-container\"><div class=\"sk-text-repr-fallback\"><pre>ColumnTransformer(transformers=[(&#x27;mean_imputer&#x27;,\n                                 Pipeline(steps=[(&#x27;imputer&#x27;, SimpleImputer())]),\n                                 [&#x27;1960&#x27;, &#x27;1961&#x27;, &#x27;1962&#x27;, &#x27;1963&#x27;, &#x27;1964&#x27;,\n                                  &#x27;1965&#x27;, &#x27;1966&#x27;, &#x27;1967&#x27;, &#x27;1968&#x27;, &#x27;1969&#x27;,\n                                  &#x27;1970&#x27;, &#x27;1971&#x27;, &#x27;1972&#x27;, &#x27;1973&#x27;, &#x27;1974&#x27;]),\n                                (&#x27;median_imputer&#x27;,\n                                 Pipeline(steps=[(&#x27;imputer&#x27;,\n                                                  SimpleImputer(strategy=&#x27;median&#x27;))]),\n                                 [&#x27;1975&#x27;, &#x27;1976&#x27;, &#x27;1977&#x27;, &#x27;1978&#x27;, &#x27;1979&#x27;,\n                                  &#x27;1980&#x27;, &#x27;1981&#x27;, &#x27;1982&#x27;, &#x27;1983&#x27;, &#x27;19...\n                                  &#x27;1995&#x27;]),\n                                (&#x27;mode_imputer&#x27;,\n                                 Pipeline(steps=[(&#x27;imputer&#x27;,\n                                                  SimpleImputer(strategy=&#x27;most_frequent&#x27;))]),\n                                 [&#x27;1996&#x27;, &#x27;1997&#x27;, &#x27;1998&#x27;, &#x27;1999&#x27;, &#x27;2000&#x27;,\n                                  &#x27;2001&#x27;, &#x27;2002&#x27;, &#x27;2003&#x27;, &#x27;2004&#x27;]),\n                                (&#x27;const_imputer&#x27;,\n                                 Pipeline(steps=[(&#x27;imputer&#x27;,\n                                                  SimpleImputer(fill_value=0,\n                                                                strategy=&#x27;constant&#x27;))]),\n                                 [&#x27;2005&#x27;, &#x27;2006&#x27;, &#x27;2007&#x27;, &#x27;2008&#x27;, &#x27;2009&#x27;,\n                                  &#x27;2010&#x27;, &#x27;2011&#x27;, &#x27;2012&#x27;, &#x27;2013&#x27;, &#x27;2014&#x27;,\n                                  &#x27;2015&#x27;, &#x27;2016&#x27;, &#x27;2017&#x27;, &#x27;2018&#x27;])])</pre><b>In a Jupyter environment, please rerun this cell to show the HTML representation or trust the notebook. <br />On GitHub, the HTML representation is unable to render, please try loading this page with nbviewer.org.</b></div><div class=\"sk-container\" hidden><div class=\"sk-item sk-dashed-wrapped\"><div class=\"sk-label-container\"><div class=\"sk-label sk-toggleable\"><input class=\"sk-toggleable__control sk-hidden--visually\" id=\"sk-estimator-id-1\" type=\"checkbox\" ><label for=\"sk-estimator-id-1\" class=\"sk-toggleable__label sk-toggleable__label-arrow\">ColumnTransformer</label><div class=\"sk-toggleable__content\"><pre>ColumnTransformer(transformers=[(&#x27;mean_imputer&#x27;,\n                                 Pipeline(steps=[(&#x27;imputer&#x27;, SimpleImputer())]),\n                                 [&#x27;1960&#x27;, &#x27;1961&#x27;, &#x27;1962&#x27;, &#x27;1963&#x27;, &#x27;1964&#x27;,\n                                  &#x27;1965&#x27;, &#x27;1966&#x27;, &#x27;1967&#x27;, &#x27;1968&#x27;, &#x27;1969&#x27;,\n                                  &#x27;1970&#x27;, &#x27;1971&#x27;, &#x27;1972&#x27;, &#x27;1973&#x27;, &#x27;1974&#x27;]),\n                                (&#x27;median_imputer&#x27;,\n                                 Pipeline(steps=[(&#x27;imputer&#x27;,\n                                                  SimpleImputer(strategy=&#x27;median&#x27;))]),\n                                 [&#x27;1975&#x27;, &#x27;1976&#x27;, &#x27;1977&#x27;, &#x27;1978&#x27;, &#x27;1979&#x27;,\n                                  &#x27;1980&#x27;, &#x27;1981&#x27;, &#x27;1982&#x27;, &#x27;1983&#x27;, &#x27;19...\n                                  &#x27;1995&#x27;]),\n                                (&#x27;mode_imputer&#x27;,\n                                 Pipeline(steps=[(&#x27;imputer&#x27;,\n                                                  SimpleImputer(strategy=&#x27;most_frequent&#x27;))]),\n                                 [&#x27;1996&#x27;, &#x27;1997&#x27;, &#x27;1998&#x27;, &#x27;1999&#x27;, &#x27;2000&#x27;,\n                                  &#x27;2001&#x27;, &#x27;2002&#x27;, &#x27;2003&#x27;, &#x27;2004&#x27;]),\n                                (&#x27;const_imputer&#x27;,\n                                 Pipeline(steps=[(&#x27;imputer&#x27;,\n                                                  SimpleImputer(fill_value=0,\n                                                                strategy=&#x27;constant&#x27;))]),\n                                 [&#x27;2005&#x27;, &#x27;2006&#x27;, &#x27;2007&#x27;, &#x27;2008&#x27;, &#x27;2009&#x27;,\n                                  &#x27;2010&#x27;, &#x27;2011&#x27;, &#x27;2012&#x27;, &#x27;2013&#x27;, &#x27;2014&#x27;,\n                                  &#x27;2015&#x27;, &#x27;2016&#x27;, &#x27;2017&#x27;, &#x27;2018&#x27;])])</pre></div></div></div><div class=\"sk-parallel\"><div class=\"sk-parallel-item\"><div class=\"sk-item\"><div class=\"sk-label-container\"><div class=\"sk-label sk-toggleable\"><input class=\"sk-toggleable__control sk-hidden--visually\" id=\"sk-estimator-id-2\" type=\"checkbox\" ><label for=\"sk-estimator-id-2\" class=\"sk-toggleable__label sk-toggleable__label-arrow\">mean_imputer</label><div class=\"sk-toggleable__content\"><pre>[&#x27;1960&#x27;, &#x27;1961&#x27;, &#x27;1962&#x27;, &#x27;1963&#x27;, &#x27;1964&#x27;, &#x27;1965&#x27;, &#x27;1966&#x27;, &#x27;1967&#x27;, &#x27;1968&#x27;, &#x27;1969&#x27;, &#x27;1970&#x27;, &#x27;1971&#x27;, &#x27;1972&#x27;, &#x27;1973&#x27;, &#x27;1974&#x27;]</pre></div></div></div><div class=\"sk-serial\"><div class=\"sk-item\"><div class=\"sk-serial\"><div class=\"sk-item\"><div class=\"sk-estimator sk-toggleable\"><input class=\"sk-toggleable__control sk-hidden--visually\" id=\"sk-estimator-id-3\" type=\"checkbox\" ><label for=\"sk-estimator-id-3\" class=\"sk-toggleable__label sk-toggleable__label-arrow\">SimpleImputer</label><div class=\"sk-toggleable__content\"><pre>SimpleImputer()</pre></div></div></div></div></div></div></div></div><div class=\"sk-parallel-item\"><div class=\"sk-item\"><div class=\"sk-label-container\"><div class=\"sk-label sk-toggleable\"><input class=\"sk-toggleable__control sk-hidden--visually\" id=\"sk-estimator-id-4\" type=\"checkbox\" ><label for=\"sk-estimator-id-4\" class=\"sk-toggleable__label sk-toggleable__label-arrow\">median_imputer</label><div class=\"sk-toggleable__content\"><pre>[&#x27;1975&#x27;, &#x27;1976&#x27;, &#x27;1977&#x27;, &#x27;1978&#x27;, &#x27;1979&#x27;, &#x27;1980&#x27;, &#x27;1981&#x27;, &#x27;1982&#x27;, &#x27;1983&#x27;, &#x27;1984&#x27;, &#x27;1985&#x27;, &#x27;1986&#x27;, &#x27;1987&#x27;, &#x27;1988&#x27;, &#x27;1989&#x27;, &#x27;1990&#x27;, &#x27;1991&#x27;, &#x27;1992&#x27;, &#x27;1993&#x27;, &#x27;1994&#x27;, &#x27;1995&#x27;]</pre></div></div></div><div class=\"sk-serial\"><div class=\"sk-item\"><div class=\"sk-serial\"><div class=\"sk-item\"><div class=\"sk-estimator sk-toggleable\"><input class=\"sk-toggleable__control sk-hidden--visually\" id=\"sk-estimator-id-5\" type=\"checkbox\" ><label for=\"sk-estimator-id-5\" class=\"sk-toggleable__label sk-toggleable__label-arrow\">SimpleImputer</label><div class=\"sk-toggleable__content\"><pre>SimpleImputer(strategy=&#x27;median&#x27;)</pre></div></div></div></div></div></div></div></div><div class=\"sk-parallel-item\"><div class=\"sk-item\"><div class=\"sk-label-container\"><div class=\"sk-label sk-toggleable\"><input class=\"sk-toggleable__control sk-hidden--visually\" id=\"sk-estimator-id-6\" type=\"checkbox\" ><label for=\"sk-estimator-id-6\" class=\"sk-toggleable__label sk-toggleable__label-arrow\">mode_imputer</label><div class=\"sk-toggleable__content\"><pre>[&#x27;1996&#x27;, &#x27;1997&#x27;, &#x27;1998&#x27;, &#x27;1999&#x27;, &#x27;2000&#x27;, &#x27;2001&#x27;, &#x27;2002&#x27;, &#x27;2003&#x27;, &#x27;2004&#x27;]</pre></div></div></div><div class=\"sk-serial\"><div class=\"sk-item\"><div class=\"sk-serial\"><div class=\"sk-item\"><div class=\"sk-estimator sk-toggleable\"><input class=\"sk-toggleable__control sk-hidden--visually\" id=\"sk-estimator-id-7\" type=\"checkbox\" ><label for=\"sk-estimator-id-7\" class=\"sk-toggleable__label sk-toggleable__label-arrow\">SimpleImputer</label><div class=\"sk-toggleable__content\"><pre>SimpleImputer(strategy=&#x27;most_frequent&#x27;)</pre></div></div></div></div></div></div></div></div><div class=\"sk-parallel-item\"><div class=\"sk-item\"><div class=\"sk-label-container\"><div class=\"sk-label sk-toggleable\"><input class=\"sk-toggleable__control sk-hidden--visually\" id=\"sk-estimator-id-8\" type=\"checkbox\" ><label for=\"sk-estimator-id-8\" class=\"sk-toggleable__label sk-toggleable__label-arrow\">const_imputer</label><div class=\"sk-toggleable__content\"><pre>[&#x27;2005&#x27;, &#x27;2006&#x27;, &#x27;2007&#x27;, &#x27;2008&#x27;, &#x27;2009&#x27;, &#x27;2010&#x27;, &#x27;2011&#x27;, &#x27;2012&#x27;, &#x27;2013&#x27;, &#x27;2014&#x27;, &#x27;2015&#x27;, &#x27;2016&#x27;, &#x27;2017&#x27;, &#x27;2018&#x27;]</pre></div></div></div><div class=\"sk-serial\"><div class=\"sk-item\"><div class=\"sk-serial\"><div class=\"sk-item\"><div class=\"sk-estimator sk-toggleable\"><input class=\"sk-toggleable__control sk-hidden--visually\" id=\"sk-estimator-id-9\" type=\"checkbox\" ><label for=\"sk-estimator-id-9\" class=\"sk-toggleable__label sk-toggleable__label-arrow\">SimpleImputer</label><div class=\"sk-toggleable__content\"><pre>SimpleImputer(fill_value=0, strategy=&#x27;constant&#x27;)</pre></div></div></div></div></div></div></div></div></div></div></div></div>"
          },
          "metadata": {}
        }
      ]
    },
    {
      "cell_type": "code",
      "source": "preProcessor.named_transformers_[\"mean_imputer\"].named_steps[\"imputer\"].statistics_",
      "metadata": {
        "tags": [],
        "trusted": true
      },
      "execution_count": 16,
      "outputs": [
        {
          "execution_count": 16,
          "output_type": "execute_result",
          "data": {
            "text/plain": "array([4.48237418e+09, 4.45064926e+09, 4.52029730e+09, 4.46243467e+09,\n       4.52573018e+09, 4.42937952e+09, 5.09843570e+09, 5.75774357e+09,\n       5.66145643e+09, 5.86619781e+09, 5.64163246e+09, 5.65538881e+09,\n       6.13913722e+09, 6.49430221e+09, 7.61527220e+09])"
          },
          "metadata": {}
        }
      ]
    },
    {
      "cell_type": "code",
      "source": "preProcessor.named_transformers_[\"median_imputer\"].named_steps[\"imputer\"].statistics_",
      "metadata": {
        "trusted": true
      },
      "execution_count": 17,
      "outputs": [
        {
          "execution_count": 17,
          "output_type": "execute_result",
          "data": {
            "text/plain": "array([5.35015353e+08, 5.85254161e+08, 6.86893244e+08, 6.97560172e+08,\n       8.16102993e+08, 9.19373639e+08, 9.75581463e+08, 9.89333333e+08,\n       9.16175972e+08, 9.04177805e+08, 9.11349661e+08, 8.67538986e+08,\n       9.25756539e+08, 9.99951023e+08, 1.41000485e+09, 1.38758054e+09,\n       1.30028439e+09, 1.10235723e+09, 1.18103480e+09, 9.79531817e+08,\n       1.17261298e+09])"
          },
          "metadata": {}
        }
      ]
    },
    {
      "cell_type": "code",
      "source": "preProcessor.named_transformers_[\"mode_imputer\"].named_steps[\"imputer\"].statistics_",
      "metadata": {
        "trusted": true
      },
      "execution_count": 18,
      "outputs": [
        {
          "execution_count": 18,
          "output_type": "execute_result",
          "data": {
            "text/plain": "array([0., 0., 0., 0., 0., 0., 0., 0., 0.])"
          },
          "metadata": {}
        }
      ]
    },
    {
      "cell_type": "code",
      "source": "preProcessor.named_transformers_[\"const_imputer\"].named_steps[\"imputer\"].statistics_",
      "metadata": {
        "trusted": true
      },
      "execution_count": 19,
      "outputs": [
        {
          "execution_count": 19,
          "output_type": "execute_result",
          "data": {
            "text/plain": "array([0., 0., 0., 0., 0., 0., 0., 0., 0., 0., 0., 0., 0., 0.])"
          },
          "metadata": {}
        }
      ]
    },
    {
      "cell_type": "code",
      "source": "dt[\"1961\"].mean()",
      "metadata": {
        "trusted": true
      },
      "execution_count": 21,
      "outputs": [
        {
          "execution_count": 21,
          "output_type": "execute_result",
          "data": {
            "text/plain": "4450649264.648875"
          },
          "metadata": {}
        }
      ]
    },
    {
      "cell_type": "code",
      "source": "dt_clean = preProcessor.transform(dt)",
      "metadata": {
        "trusted": true
      },
      "execution_count": 23,
      "outputs": []
    },
    {
      "cell_type": "code",
      "source": "# remider by default is on 'drop' so it will drop all non missing value so. Hence to prevent this we will change it to 'passthrough'.",
      "metadata": {
        "trusted": true
      },
      "execution_count": 24,
      "outputs": []
    },
    {
      "cell_type": "code",
      "source": "dt_clean_missing_now_filled=pd.DataFrame(dt_clean, columns=num_var_mean+num_var_median+num_var_mode+num_var_const)",
      "metadata": {
        "trusted": true
      },
      "execution_count": 26,
      "outputs": []
    },
    {
      "cell_type": "code",
      "source": "dt_clean_missing_now_filled.isnull().sum().sum()",
      "metadata": {
        "trusted": true
      },
      "execution_count": 28,
      "outputs": [
        {
          "execution_count": 28,
          "output_type": "execute_result",
          "data": {
            "text/plain": "0"
          },
          "metadata": {}
        }
      ]
    },
    {
      "cell_type": "code",
      "source": "dt_clean_missing_now_filled.value_counts()",
      "metadata": {
        "collapsed": true,
        "jupyter": {
          "outputs_hidden": true
        },
        "tags": [],
        "trusted": true
      },
      "execution_count": 29,
      "outputs": [
        {
          "execution_count": 29,
          "output_type": "execute_result",
          "data": {
            "text/plain": "1960          1961          1962          1963          1964          1965          1966          1967          1968          1969          1970          1971          1972          1973          1974          1975          1976          1977          1978          1979          1980          1981          1982          1983          1984          1985          1986          1987          1988          1989          1990          1991          1992          1993          1994          1995          1996          1997          1998          1999          2000          2001          2002          2003          2004          2005          2006          2007          2008          2009          2010          2011          2012          2013          2014          2015          2016          2017          2018        \n4.482374e+09  4.450649e+09  4.520297e+09  4.462435e+09  4.525730e+09  4.429380e+09  5.098436e+09  5.757744e+09  5.661456e+09  5.866198e+09  5.641632e+09  5.655389e+09  6.139137e+09  6.494302e+09  7.615272e+09  5.350154e+08  5.852542e+08  6.868932e+08  6.975602e+08  8.161030e+08  9.193736e+08  9.755815e+08  9.893333e+08  9.161760e+08  9.041778e+08  9.113497e+08  8.675390e+08  9.257565e+08  9.999510e+08  1.410005e+09  1.387581e+09  1.300284e+09  1.102357e+09  1.181035e+09  9.795318e+08  1.172613e+09  0.000000e+00  0.000000e+00  0.000000e+00  0.000000e+00  0.000000e+00  0.000000e+00  0.000000e+00  0.000000e+00  0.000000e+00  0.000000e+00  0.000000e+00  0.000000e+00  0.000000e+00  0.000000e+00  0.000000e+00  0.000000e+00  0.000000e+00  0.000000e+00  0.000000e+00  0.000000e+00  0.000000e+00  0.000000e+00  0.000000e+00    53\n0.000000e+00  0.000000e+00  0.000000e+00  0.000000e+00  0.000000e+00  0.000000e+00  0.000000e+00  0.000000e+00  0.000000e+00  0.000000e+00  0.000000e+00  0.000000e+00  0.000000e+00  0.000000e+00  0.000000e+00  0.000000e+00  0.000000e+00  0.000000e+00  0.000000e+00  0.000000e+00  0.000000e+00  0.000000e+00  0.000000e+00  0.000000e+00  0.000000e+00  0.000000e+00  0.000000e+00  0.000000e+00  0.000000e+00  0.000000e+00  0.000000e+00  0.000000e+00  0.000000e+00  0.000000e+00  0.000000e+00  0.000000e+00  0.000000e+00  0.000000e+00  0.000000e+00  0.000000e+00  0.000000e+00  0.000000e+00  0.000000e+00  0.000000e+00  0.000000e+00  0.000000e+00  0.000000e+00  0.000000e+00  0.000000e+00  0.000000e+00  0.000000e+00  0.000000e+00  0.000000e+00  0.000000e+00  0.000000e+00  0.000000e+00  0.000000e+00  0.000000e+00  0.000000e+00     2\n4.482374e+09  4.450649e+09  4.520297e+09  4.222638e+08  5.457222e+08  6.693097e+08  7.135174e+08  8.782929e+08  1.119925e+09  1.540388e+09  1.613808e+09  1.728971e+09  2.052077e+09  2.566938e+09  3.481516e+09  5.684992e+09  5.683281e+09  7.054371e+09  7.968046e+09  8.809036e+09  9.508376e+09  8.817674e+09  8.090192e+09  8.226206e+09  7.892707e+09  7.051445e+09  7.141827e+09  8.287085e+09  9.344610e+09  9.272704e+09  1.067911e+10  9.358911e+09  7.432157e+09  8.352668e+09  6.511375e+09  6.199196e+09  5.721159e+09  6.104900e+09  6.063777e+09  6.740075e+09  6.361034e+09  5.757860e+09  6.573026e+09  7.439583e+09  9.320664e+09  1.040894e+10  1.251255e+10  1.417943e+10  1.796741e+10  1.783993e+10  1.659735e+10  1.823214e+10  1.876137e+10  2.175311e+10  2.327820e+10  2.025452e+10  1.912811e+10  2.163284e+10  1.832208e+10     2\n                                          4.462435e+09  4.525730e+09  4.429380e+09  5.098436e+09  5.757744e+09  5.661456e+09  5.866198e+09  5.641632e+09  5.655389e+09  6.139137e+09  6.494302e+09  7.615272e+09  5.350154e+08  5.852542e+08  6.868932e+08  6.975602e+08  8.161030e+08  9.193736e+08  9.755815e+08  9.893333e+08  9.161760e+08  9.041778e+08  9.113497e+08  8.675390e+08  9.257565e+08  9.999510e+08  1.781780e+10  1.744388e+10  1.834374e+10  2.210524e+10  2.338968e+10  2.300424e+10  2.734978e+10  3.067705e+10  3.134684e+10  2.907716e+10  3.435479e+10  3.799177e+10  4.320479e+10  4.990780e+10  6.852595e+10  7.966367e+10  8.871790e+10  6.678224e+10  8.294110e+10  1.030000e+11  1.230000e+11  1.350000e+11  1.600000e+11  1.840000e+11  2.090000e+11  2.290000e+11  2.430000e+11  2.460000e+11  2.580000e+11  2.800000e+11     2\n                            8.303662e+08  8.987564e+08  1.209936e+09  1.377120e+09  1.447511e+09  1.619449e+09  2.063859e+09  2.560709e+09  2.940451e+09  2.926377e+09  2.884692e+09  3.692078e+09  9.018176e+09  1.181132e+10  1.402996e+10  1.556777e+10  1.663515e+10  1.346842e+10  1.566393e+10  1.984862e+10  1.840893e+10  1.926033e+10  1.971805e+10  2.104235e+10  2.301467e+10  2.664091e+10  2.990233e+10  2.379471e+10  2.397365e+10  2.548587e+10  2.884751e+10  9.615943e+09  1.148043e+10  1.030538e+10  1.155250e+10  1.426654e+10  1.571440e+10  1.653409e+10  1.796908e+10  2.100653e+10  1.382293e+10  1.489592e+10  1.779925e+10  2.056880e+10  2.329759e+10  2.698044e+10  3.326738e+10  3.533690e+10  3.806224e+10  4.305891e+10  4.643928e+10  4.811780e+10  4.587827e+10  4.418341e+10  4.165398e+10  4.288774e+10  4.148024e+10     2\n                                                                                                                                                                                                                                                                                                                                                                                                                                                                                                                                                                                                                                                                                                                                                                                                                                                            ..\n              3.160000e+06  3.700000e+06  4.480000e+06  5.420000e+06  5.170000e+06  6.500000e+06  7.530000e+06  8.340000e+06  9.000000e+06  1.120000e+07  1.140000e+07  1.320000e+07  1.610000e+07  2.140000e+07  2.310000e+07  2.630000e+07  3.170000e+07  8.140000e+07  8.770000e+07  9.550000e+07  1.340000e+08  8.390000e+07  8.390000e+07  8.920000e+07  4.430000e+07  3.490000e+07  2.850000e+07  4.950000e+07  8.560000e+06  1.387581e+09  1.300284e+09  1.102357e+09  1.181035e+09  9.795318e+08  1.172613e+09  0.000000e+00  0.000000e+00  0.000000e+00  0.000000e+00  0.000000e+00  0.000000e+00  0.000000e+00  0.000000e+00  0.000000e+00  0.000000e+00  0.000000e+00  0.000000e+00  0.000000e+00  0.000000e+00  0.000000e+00  0.000000e+00  0.000000e+00  2.605000e+07  6.025800e+07  4.661400e+07  4.770600e+07  6.040600e+07  6.155600e+07     1\n              3.922368e+06  4.342609e+06  4.375224e+06  5.174940e+06  4.647822e+06  4.636150e+06  5.081280e+06  5.251146e+06  5.673928e+06  6.150440e+06  6.323436e+06  8.332408e+06  1.097407e+07  1.163250e+07  1.913090e+07  2.176187e+07  2.605015e+07  3.102067e+07  3.619748e+07  3.833775e+07  3.164895e+07  2.951863e+07  2.676702e+07  2.540296e+07  2.982663e+07  3.753906e+07  4.425412e+07  4.801107e+07  4.608035e+07  5.215507e+07  1.300284e+09  1.102357e+09  4.449734e+07  2.989887e+07  4.046896e+07  3.968316e+07  4.026255e+07  4.102029e+07  4.385260e+07  4.368125e+07  4.488165e+07  4.935523e+07  6.675843e+07  7.742033e+07  8.645074e+07  9.600490e+07  1.103769e+08  1.429194e+08  1.444346e+08  1.467865e+08  1.610627e+08  1.488658e+08  1.538337e+08  2.181184e+08  3.091707e+08  3.623989e+08  4.587094e+08  4.951653e+08     1\n              4.935418e+06  5.195619e+06  6.404292e+06  4.525730e+09  4.429380e+09  5.098436e+09  5.757744e+09  1.158312e+07  1.225461e+07  1.678714e+07  1.586384e+07  2.070064e+07  2.112914e+07  3.976664e+07  5.830447e+07  6.677606e+07  7.325433e+07  9.767244e+07  1.197371e+08  1.590081e+08  2.387155e+08  1.237268e+08  8.997348e+07  1.446808e+08  1.312080e+08  9.286921e+07  1.033624e+08  9.291695e+07  1.016909e+08  1.370651e+08  1.436440e+08  1.414419e+08  1.098971e+08  1.345952e+08  1.407609e+08  1.469630e+08  1.802004e+08  2.286770e+08  1.767442e+08  1.732454e+08  1.843976e+08  1.604379e+08  1.734313e+08  1.688816e+08  1.692623e+08  1.795255e+08  2.212807e+08  3.271947e+08  3.457778e+08  3.274131e+08  4.035686e+08  4.998700e+08  5.644098e+08  6.258851e+08  5.755242e+08  5.523813e+08  5.740702e+08  6.188421e+08     1\n              4.450649e+09  7.279854e+05  2.729945e+06  5.487890e+06  1.073779e+07  1.426571e+07  1.684166e+07  1.994260e+07  2.286154e+07  2.662747e+07  5.268795e+07  6.494470e+07  6.487264e+07  8.015751e+07  8.656790e+07  1.010746e+08  1.319167e+08  1.516999e+08  2.068068e+08  3.988135e+08  1.081469e+08  8.748845e+07  9.372360e+07  7.521504e+07  1.048183e+08  1.310714e+08  1.309717e+08  1.409041e+08  1.398212e+08  1.070062e+08  7.356160e+07  5.233135e+07  6.263665e+07  1.041278e+08  1.270026e+08  1.353936e+08  1.396160e+08  1.547125e+08  1.597046e+08  1.413030e+08  1.361573e+08  1.421916e+08  1.523799e+08  1.960159e+08  2.166670e+08  2.185339e+08  2.521192e+08  3.118563e+08  2.935277e+08  6.086859e+08  6.071351e+08  3.518382e+08  3.000756e+08  3.256628e+08  3.061404e+08  3.185517e+08  3.467629e+08  4.083676e+08     1\n6.777699e+10  7.161496e+10  7.889139e+10  8.097281e+10  8.148150e+10  8.364532e+10  9.752720e+10  1.120000e+11  1.180000e+11  1.210000e+11  1.230000e+11  1.230000e+11  1.340000e+11  1.480000e+11  1.650000e+11  1.810000e+11  1.870000e+11  2.080000e+11  2.290000e+11  2.530000e+11  2.880000e+11  3.140000e+11  3.570000e+11  3.540000e+11  3.680000e+11  3.970000e+11  4.570000e+11  5.000000e+11  5.250000e+11  5.340000e+11  5.760000e+11  5.610000e+11  5.950000e+11  5.700000e+11  5.680000e+11  5.810000e+11  5.710000e+11  5.540000e+11  5.460000e+11  5.600000e+11  5.690000e+11  5.700000e+11  6.320000e+11  7.400000e+11  8.290000e+11  8.800000e+11  9.190000e+11  9.930000e+11  1.100000e+12  1.130000e+12  1.160000e+12  1.200000e+12  1.160000e+12  1.100000e+12  1.080000e+12  1.010000e+12  1.020000e+12  1.050000e+12  1.120000e+12     1\nLength: 207, dtype: int64"
          },
          "metadata": {}
        }
      ]
    },
    {
      "cell_type": "code",
      "source": "dt_final=pd.merge(dt, dt_clean_missing_now_filled)\ndt_final",
      "metadata": {
        "trusted": true
      },
      "execution_count": 31,
      "outputs": [
        {
          "execution_count": 31,
          "output_type": "execute_result",
          "data": {
            "text/plain": "                                                 Name Code  \\\n0                                           Australia  AUS   \n1                                             Austria  AUT   \n2                                             Belgium  BEL   \n3                                        Burkina Faso  BFA   \n4                                              Brazil  BRA   \n..                                                ...  ...   \n65  Latin America & the Caribbean (IDA & IBRD coun...  TLA   \n66                                            Tunisia  TUN   \n67                                             Turkey  TUR   \n68                                      United States  USA   \n69                                       South Africa  ZAF   \n\n                            Type                      Indicator Name  \\\n0                        Country  Military expenditure (current USD)   \n1                        Country  Military expenditure (current USD)   \n2                        Country  Military expenditure (current USD)   \n3                        Country  Military expenditure (current USD)   \n4                        Country  Military expenditure (current USD)   \n..                           ...                                 ...   \n65  Regions Clubbed Economically  Military expenditure (current USD)   \n66                       Country  Military expenditure (current USD)   \n67                       Country  Military expenditure (current USD)   \n68                       Country  Military expenditure (current USD)   \n69                       Country  Military expenditure (current USD)   \n\n            1960          1961          1962          1963          1964  \\\n0   4.597601e+08  4.709601e+08  4.894401e+08  5.532801e+08  6.557601e+08   \n1   9.155910e+07  9.102985e+07  1.000270e+08  1.259599e+08  1.645947e+08   \n2   3.832202e+08  3.912188e+08  4.222208e+08  4.446013e+08  4.970592e+08   \n3   1.268378e+06  1.643154e+06  4.901761e+06  5.281288e+06  5.358593e+06   \n4   3.827298e+08  3.423397e+08  3.874490e+08  4.419996e+08  3.542279e+08   \n..           ...           ...           ...           ...           ...   \n65  1.041102e+09  9.521159e+08  1.470078e+09  1.558299e+09  1.478294e+09   \n66  1.595238e+07  1.857143e+07  1.428571e+07  1.523810e+07  1.747899e+07   \n67  4.688109e+08  3.013304e+08  3.303769e+08  3.500000e+08  3.808978e+08   \n68  4.538000e+10  4.780800e+10  5.238100e+10  5.229500e+10  5.121300e+10   \n69  6.999997e+07  1.137500e+08  1.861999e+08  1.889999e+08  2.715999e+08   \n\n            1965  ...          2009          2010          2011          2012  \\\n0   7.873601e+08  ...  1.896014e+10  2.321769e+10  2.659720e+10  2.621658e+10   \n1   1.428957e+08  ...  3.334755e+09  3.218351e+09  3.409721e+09  3.187227e+09   \n2   5.007221e+08  ...  5.620670e+09  5.244721e+09  5.499371e+09  5.168998e+09   \n3   3.509330e+06  ...  1.273333e+08  1.237005e+08  1.388509e+08  1.477297e+08   \n4   6.328690e+08  ...  2.564881e+10  3.400294e+10  3.693621e+10  3.398701e+10   \n..           ...  ...           ...           ...           ...           ...   \n65  1.824899e+09  ...  5.652421e+10  6.948861e+10  7.469882e+10  7.649189e+10   \n66  1.276190e+07  ...  5.647759e+08  5.711890e+08  7.152396e+08  6.812260e+08   \n67  4.226770e+08  ...  1.635230e+10  1.793937e+10  1.730488e+10  1.795824e+10   \n68  5.182700e+10  ...  6.690000e+11  6.980000e+11  7.110000e+11  6.850000e+11   \n69  2.894499e+08  ...  3.592688e+09  4.188168e+09  4.594154e+09  4.489590e+09   \n\n            2013          2014          2015          2016          2017  \\\n0   2.482526e+10  2.578371e+10  2.404557e+10  2.638295e+10  2.769111e+10   \n1   3.229066e+09  3.305159e+09  2.665410e+09  2.885947e+09  3.138359e+09   \n2   5.263165e+09  5.191509e+09  4.202063e+09  4.314102e+09  4.484653e+09   \n3   1.661363e+08  1.771670e+08  1.479347e+08  1.494674e+08  1.910658e+08   \n4   3.287479e+10  3.265961e+10  2.461770e+10  2.422475e+10  2.928305e+10   \n..           ...           ...           ...           ...           ...   \n65  7.973844e+10  7.455081e+10  6.156557e+10  5.727127e+10  6.557719e+10   \n66  7.593589e+08  9.083573e+08  9.794940e+08  9.877347e+08  8.589496e+08   \n67  1.866257e+10  1.777217e+10  1.588093e+10  1.785398e+10  1.782401e+10   \n68  6.400000e+11  6.100000e+11  5.960000e+11  6.000000e+11  6.060000e+11   \n69  4.118208e+09  3.892469e+09  3.488868e+09  3.169756e+09  3.638937e+09   \n\n            2018  \n0   2.671183e+10  \n1   3.367460e+09  \n2   4.959692e+09  \n3   3.124676e+08  \n4   2.776643e+10  \n..           ...  \n65  6.418384e+10  \n66  8.442274e+08  \n67  1.896711e+10  \n68  6.490000e+11  \n69  3.639879e+09  \n\n[70 rows x 63 columns]",
            "text/html": "<div>\n<style scoped>\n    .dataframe tbody tr th:only-of-type {\n        vertical-align: middle;\n    }\n\n    .dataframe tbody tr th {\n        vertical-align: top;\n    }\n\n    .dataframe thead th {\n        text-align: right;\n    }\n</style>\n<table border=\"1\" class=\"dataframe\">\n  <thead>\n    <tr style=\"text-align: right;\">\n      <th></th>\n      <th>Name</th>\n      <th>Code</th>\n      <th>Type</th>\n      <th>Indicator Name</th>\n      <th>1960</th>\n      <th>1961</th>\n      <th>1962</th>\n      <th>1963</th>\n      <th>1964</th>\n      <th>1965</th>\n      <th>...</th>\n      <th>2009</th>\n      <th>2010</th>\n      <th>2011</th>\n      <th>2012</th>\n      <th>2013</th>\n      <th>2014</th>\n      <th>2015</th>\n      <th>2016</th>\n      <th>2017</th>\n      <th>2018</th>\n    </tr>\n  </thead>\n  <tbody>\n    <tr>\n      <th>0</th>\n      <td>Australia</td>\n      <td>AUS</td>\n      <td>Country</td>\n      <td>Military expenditure (current USD)</td>\n      <td>4.597601e+08</td>\n      <td>4.709601e+08</td>\n      <td>4.894401e+08</td>\n      <td>5.532801e+08</td>\n      <td>6.557601e+08</td>\n      <td>7.873601e+08</td>\n      <td>...</td>\n      <td>1.896014e+10</td>\n      <td>2.321769e+10</td>\n      <td>2.659720e+10</td>\n      <td>2.621658e+10</td>\n      <td>2.482526e+10</td>\n      <td>2.578371e+10</td>\n      <td>2.404557e+10</td>\n      <td>2.638295e+10</td>\n      <td>2.769111e+10</td>\n      <td>2.671183e+10</td>\n    </tr>\n    <tr>\n      <th>1</th>\n      <td>Austria</td>\n      <td>AUT</td>\n      <td>Country</td>\n      <td>Military expenditure (current USD)</td>\n      <td>9.155910e+07</td>\n      <td>9.102985e+07</td>\n      <td>1.000270e+08</td>\n      <td>1.259599e+08</td>\n      <td>1.645947e+08</td>\n      <td>1.428957e+08</td>\n      <td>...</td>\n      <td>3.334755e+09</td>\n      <td>3.218351e+09</td>\n      <td>3.409721e+09</td>\n      <td>3.187227e+09</td>\n      <td>3.229066e+09</td>\n      <td>3.305159e+09</td>\n      <td>2.665410e+09</td>\n      <td>2.885947e+09</td>\n      <td>3.138359e+09</td>\n      <td>3.367460e+09</td>\n    </tr>\n    <tr>\n      <th>2</th>\n      <td>Belgium</td>\n      <td>BEL</td>\n      <td>Country</td>\n      <td>Military expenditure (current USD)</td>\n      <td>3.832202e+08</td>\n      <td>3.912188e+08</td>\n      <td>4.222208e+08</td>\n      <td>4.446013e+08</td>\n      <td>4.970592e+08</td>\n      <td>5.007221e+08</td>\n      <td>...</td>\n      <td>5.620670e+09</td>\n      <td>5.244721e+09</td>\n      <td>5.499371e+09</td>\n      <td>5.168998e+09</td>\n      <td>5.263165e+09</td>\n      <td>5.191509e+09</td>\n      <td>4.202063e+09</td>\n      <td>4.314102e+09</td>\n      <td>4.484653e+09</td>\n      <td>4.959692e+09</td>\n    </tr>\n    <tr>\n      <th>3</th>\n      <td>Burkina Faso</td>\n      <td>BFA</td>\n      <td>Country</td>\n      <td>Military expenditure (current USD)</td>\n      <td>1.268378e+06</td>\n      <td>1.643154e+06</td>\n      <td>4.901761e+06</td>\n      <td>5.281288e+06</td>\n      <td>5.358593e+06</td>\n      <td>3.509330e+06</td>\n      <td>...</td>\n      <td>1.273333e+08</td>\n      <td>1.237005e+08</td>\n      <td>1.388509e+08</td>\n      <td>1.477297e+08</td>\n      <td>1.661363e+08</td>\n      <td>1.771670e+08</td>\n      <td>1.479347e+08</td>\n      <td>1.494674e+08</td>\n      <td>1.910658e+08</td>\n      <td>3.124676e+08</td>\n    </tr>\n    <tr>\n      <th>4</th>\n      <td>Brazil</td>\n      <td>BRA</td>\n      <td>Country</td>\n      <td>Military expenditure (current USD)</td>\n      <td>3.827298e+08</td>\n      <td>3.423397e+08</td>\n      <td>3.874490e+08</td>\n      <td>4.419996e+08</td>\n      <td>3.542279e+08</td>\n      <td>6.328690e+08</td>\n      <td>...</td>\n      <td>2.564881e+10</td>\n      <td>3.400294e+10</td>\n      <td>3.693621e+10</td>\n      <td>3.398701e+10</td>\n      <td>3.287479e+10</td>\n      <td>3.265961e+10</td>\n      <td>2.461770e+10</td>\n      <td>2.422475e+10</td>\n      <td>2.928305e+10</td>\n      <td>2.776643e+10</td>\n    </tr>\n    <tr>\n      <th>...</th>\n      <td>...</td>\n      <td>...</td>\n      <td>...</td>\n      <td>...</td>\n      <td>...</td>\n      <td>...</td>\n      <td>...</td>\n      <td>...</td>\n      <td>...</td>\n      <td>...</td>\n      <td>...</td>\n      <td>...</td>\n      <td>...</td>\n      <td>...</td>\n      <td>...</td>\n      <td>...</td>\n      <td>...</td>\n      <td>...</td>\n      <td>...</td>\n      <td>...</td>\n      <td>...</td>\n    </tr>\n    <tr>\n      <th>65</th>\n      <td>Latin America &amp; the Caribbean (IDA &amp; IBRD coun...</td>\n      <td>TLA</td>\n      <td>Regions Clubbed Economically</td>\n      <td>Military expenditure (current USD)</td>\n      <td>1.041102e+09</td>\n      <td>9.521159e+08</td>\n      <td>1.470078e+09</td>\n      <td>1.558299e+09</td>\n      <td>1.478294e+09</td>\n      <td>1.824899e+09</td>\n      <td>...</td>\n      <td>5.652421e+10</td>\n      <td>6.948861e+10</td>\n      <td>7.469882e+10</td>\n      <td>7.649189e+10</td>\n      <td>7.973844e+10</td>\n      <td>7.455081e+10</td>\n      <td>6.156557e+10</td>\n      <td>5.727127e+10</td>\n      <td>6.557719e+10</td>\n      <td>6.418384e+10</td>\n    </tr>\n    <tr>\n      <th>66</th>\n      <td>Tunisia</td>\n      <td>TUN</td>\n      <td>Country</td>\n      <td>Military expenditure (current USD)</td>\n      <td>1.595238e+07</td>\n      <td>1.857143e+07</td>\n      <td>1.428571e+07</td>\n      <td>1.523810e+07</td>\n      <td>1.747899e+07</td>\n      <td>1.276190e+07</td>\n      <td>...</td>\n      <td>5.647759e+08</td>\n      <td>5.711890e+08</td>\n      <td>7.152396e+08</td>\n      <td>6.812260e+08</td>\n      <td>7.593589e+08</td>\n      <td>9.083573e+08</td>\n      <td>9.794940e+08</td>\n      <td>9.877347e+08</td>\n      <td>8.589496e+08</td>\n      <td>8.442274e+08</td>\n    </tr>\n    <tr>\n      <th>67</th>\n      <td>Turkey</td>\n      <td>TUR</td>\n      <td>Country</td>\n      <td>Military expenditure (current USD)</td>\n      <td>4.688109e+08</td>\n      <td>3.013304e+08</td>\n      <td>3.303769e+08</td>\n      <td>3.500000e+08</td>\n      <td>3.808978e+08</td>\n      <td>4.226770e+08</td>\n      <td>...</td>\n      <td>1.635230e+10</td>\n      <td>1.793937e+10</td>\n      <td>1.730488e+10</td>\n      <td>1.795824e+10</td>\n      <td>1.866257e+10</td>\n      <td>1.777217e+10</td>\n      <td>1.588093e+10</td>\n      <td>1.785398e+10</td>\n      <td>1.782401e+10</td>\n      <td>1.896711e+10</td>\n    </tr>\n    <tr>\n      <th>68</th>\n      <td>United States</td>\n      <td>USA</td>\n      <td>Country</td>\n      <td>Military expenditure (current USD)</td>\n      <td>4.538000e+10</td>\n      <td>4.780800e+10</td>\n      <td>5.238100e+10</td>\n      <td>5.229500e+10</td>\n      <td>5.121300e+10</td>\n      <td>5.182700e+10</td>\n      <td>...</td>\n      <td>6.690000e+11</td>\n      <td>6.980000e+11</td>\n      <td>7.110000e+11</td>\n      <td>6.850000e+11</td>\n      <td>6.400000e+11</td>\n      <td>6.100000e+11</td>\n      <td>5.960000e+11</td>\n      <td>6.000000e+11</td>\n      <td>6.060000e+11</td>\n      <td>6.490000e+11</td>\n    </tr>\n    <tr>\n      <th>69</th>\n      <td>South Africa</td>\n      <td>ZAF</td>\n      <td>Country</td>\n      <td>Military expenditure (current USD)</td>\n      <td>6.999997e+07</td>\n      <td>1.137500e+08</td>\n      <td>1.861999e+08</td>\n      <td>1.889999e+08</td>\n      <td>2.715999e+08</td>\n      <td>2.894499e+08</td>\n      <td>...</td>\n      <td>3.592688e+09</td>\n      <td>4.188168e+09</td>\n      <td>4.594154e+09</td>\n      <td>4.489590e+09</td>\n      <td>4.118208e+09</td>\n      <td>3.892469e+09</td>\n      <td>3.488868e+09</td>\n      <td>3.169756e+09</td>\n      <td>3.638937e+09</td>\n      <td>3.639879e+09</td>\n    </tr>\n  </tbody>\n</table>\n<p>70 rows × 63 columns</p>\n</div>"
          },
          "metadata": {}
        }
      ]
    },
    {
      "cell_type": "code",
      "source": "",
      "metadata": {},
      "execution_count": null,
      "outputs": []
    }
  ]
}