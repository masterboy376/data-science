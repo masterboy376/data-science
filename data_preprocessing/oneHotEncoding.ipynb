{
  "metadata": {
    "language_info": {
      "codemirror_mode": {
        "name": "python",
        "version": 3
      },
      "file_extension": ".py",
      "mimetype": "text/x-python",
      "name": "python",
      "nbconvert_exporter": "python",
      "pygments_lexer": "ipython3",
      "version": "3.8"
    },
    "kernelspec": {
      "name": "python",
      "display_name": "Python (Pyodide)",
      "language": "python"
    }
  },
  "nbformat_minor": 4,
  "nbformat": 4,
  "cells": [
    {
      "cell_type": "code",
      "source": "import pandas as pd",
      "metadata": {
        "trusted": true
      },
      "execution_count": 1,
      "outputs": []
    },
    {
      "cell_type": "code",
      "source": "dt=pd.read_csv(\"./budget.csv\")\ndt.shape",
      "metadata": {
        "trusted": true
      },
      "execution_count": 2,
      "outputs": [
        {
          "execution_count": 2,
          "output_type": "execute_result",
          "data": {
            "text/plain": "(264, 63)"
          },
          "metadata": {}
        }
      ]
    },
    {
      "cell_type": "code",
      "source": "dummy_dt = pd.get_dummies(dt)\ndummy_dt \n# k dummy data",
      "metadata": {
        "collapsed": true,
        "jupyter": {
          "outputs_hidden": true
        },
        "tags": [],
        "trusted": true
      },
      "execution_count": 3,
      "outputs": [
        {
          "execution_count": 3,
          "output_type": "execute_result",
          "data": {
            "text/plain": "           1960         1961         1962         1963         1964  \\\n0           NaN          NaN          NaN          NaN          NaN   \n1           NaN          NaN          NaN          NaN          NaN   \n2           NaN          NaN          NaN          NaN          NaN   \n3           NaN          NaN          NaN          NaN          NaN   \n4           NaN          NaN          NaN          NaN          NaN   \n..          ...          ...          ...          ...          ...   \n259         NaN          NaN          NaN          NaN          NaN   \n260         NaN          NaN          NaN          NaN          NaN   \n261  69999972.0  113749954.5  186199925.5  188999924.4  271599891.4   \n262         NaN          NaN          NaN          NaN          NaN   \n263         NaN          NaN          NaN          NaN          NaN   \n\n            1965         1966         1967         1968         1969  ...  \\\n0            NaN          NaN          NaN          NaN          NaN  ...   \n1            NaN          NaN          NaN          NaN          NaN  ...   \n2            NaN          NaN          NaN          NaN          NaN  ...   \n3            NaN          NaN          NaN          NaN          NaN  ...   \n4            NaN          NaN          NaN          NaN          NaN  ...   \n..           ...          ...          ...          ...          ...  ...   \n259          NaN          NaN          NaN          NaN          NaN  ...   \n260          NaN          NaN          NaN          NaN          NaN  ...   \n261  289449884.2  324449870.2  373099850.8  399699840.1  425599829.8  ...   \n262          NaN          NaN          NaN          NaN          NaN  ...   \n263   15600000.0   16950000.0   19000000.0   30600000.0   42350000.0  ...   \n\n     Code_XKX  Code_YEM  Code_ZAF  Code_ZMB  Code_ZWE  Type_Country  \\\n0           0         0         0         0         0             1   \n1           0         0         0         0         0             1   \n2           0         0         0         0         0             1   \n3           0         0         0         0         0             1   \n4           0         0         0         0         0             1   \n..        ...       ...       ...       ...       ...           ...   \n259         1         0         0         0         0             1   \n260         0         1         0         0         0             1   \n261         0         0         1         0         0             1   \n262         0         0         0         1         0             1   \n263         0         0         0         0         1             1   \n\n     Type_Regions Clubbed Economically  Type_Regions Clubbed Geographically  \\\n0                                    0                                    0   \n1                                    0                                    0   \n2                                    0                                    0   \n3                                    0                                    0   \n4                                    0                                    0   \n..                                 ...                                  ...   \n259                                  0                                    0   \n260                                  0                                    0   \n261                                  0                                    0   \n262                                  0                                    0   \n263                                  0                                    0   \n\n     Type_Semi Autonomous Region  \\\n0                              0   \n1                              0   \n2                              0   \n3                              0   \n4                              0   \n..                           ...   \n259                            0   \n260                            0   \n261                            0   \n262                            0   \n263                            0   \n\n     Indicator Name_Military expenditure (current USD)  \n0                                                    1  \n1                                                    1  \n2                                                    1  \n3                                                    1  \n4                                                    1  \n..                                                 ...  \n259                                                  1  \n260                                                  1  \n261                                                  1  \n262                                                  1  \n263                                                  1  \n\n[264 rows x 592 columns]",
            "text/html": "<div>\n<style scoped>\n    .dataframe tbody tr th:only-of-type {\n        vertical-align: middle;\n    }\n\n    .dataframe tbody tr th {\n        vertical-align: top;\n    }\n\n    .dataframe thead th {\n        text-align: right;\n    }\n</style>\n<table border=\"1\" class=\"dataframe\">\n  <thead>\n    <tr style=\"text-align: right;\">\n      <th></th>\n      <th>1960</th>\n      <th>1961</th>\n      <th>1962</th>\n      <th>1963</th>\n      <th>1964</th>\n      <th>1965</th>\n      <th>1966</th>\n      <th>1967</th>\n      <th>1968</th>\n      <th>1969</th>\n      <th>...</th>\n      <th>Code_XKX</th>\n      <th>Code_YEM</th>\n      <th>Code_ZAF</th>\n      <th>Code_ZMB</th>\n      <th>Code_ZWE</th>\n      <th>Type_Country</th>\n      <th>Type_Regions Clubbed Economically</th>\n      <th>Type_Regions Clubbed Geographically</th>\n      <th>Type_Semi Autonomous Region</th>\n      <th>Indicator Name_Military expenditure (current USD)</th>\n    </tr>\n  </thead>\n  <tbody>\n    <tr>\n      <th>0</th>\n      <td>NaN</td>\n      <td>NaN</td>\n      <td>NaN</td>\n      <td>NaN</td>\n      <td>NaN</td>\n      <td>NaN</td>\n      <td>NaN</td>\n      <td>NaN</td>\n      <td>NaN</td>\n      <td>NaN</td>\n      <td>...</td>\n      <td>0</td>\n      <td>0</td>\n      <td>0</td>\n      <td>0</td>\n      <td>0</td>\n      <td>1</td>\n      <td>0</td>\n      <td>0</td>\n      <td>0</td>\n      <td>1</td>\n    </tr>\n    <tr>\n      <th>1</th>\n      <td>NaN</td>\n      <td>NaN</td>\n      <td>NaN</td>\n      <td>NaN</td>\n      <td>NaN</td>\n      <td>NaN</td>\n      <td>NaN</td>\n      <td>NaN</td>\n      <td>NaN</td>\n      <td>NaN</td>\n      <td>...</td>\n      <td>0</td>\n      <td>0</td>\n      <td>0</td>\n      <td>0</td>\n      <td>0</td>\n      <td>1</td>\n      <td>0</td>\n      <td>0</td>\n      <td>0</td>\n      <td>1</td>\n    </tr>\n    <tr>\n      <th>2</th>\n      <td>NaN</td>\n      <td>NaN</td>\n      <td>NaN</td>\n      <td>NaN</td>\n      <td>NaN</td>\n      <td>NaN</td>\n      <td>NaN</td>\n      <td>NaN</td>\n      <td>NaN</td>\n      <td>NaN</td>\n      <td>...</td>\n      <td>0</td>\n      <td>0</td>\n      <td>0</td>\n      <td>0</td>\n      <td>0</td>\n      <td>1</td>\n      <td>0</td>\n      <td>0</td>\n      <td>0</td>\n      <td>1</td>\n    </tr>\n    <tr>\n      <th>3</th>\n      <td>NaN</td>\n      <td>NaN</td>\n      <td>NaN</td>\n      <td>NaN</td>\n      <td>NaN</td>\n      <td>NaN</td>\n      <td>NaN</td>\n      <td>NaN</td>\n      <td>NaN</td>\n      <td>NaN</td>\n      <td>...</td>\n      <td>0</td>\n      <td>0</td>\n      <td>0</td>\n      <td>0</td>\n      <td>0</td>\n      <td>1</td>\n      <td>0</td>\n      <td>0</td>\n      <td>0</td>\n      <td>1</td>\n    </tr>\n    <tr>\n      <th>4</th>\n      <td>NaN</td>\n      <td>NaN</td>\n      <td>NaN</td>\n      <td>NaN</td>\n      <td>NaN</td>\n      <td>NaN</td>\n      <td>NaN</td>\n      <td>NaN</td>\n      <td>NaN</td>\n      <td>NaN</td>\n      <td>...</td>\n      <td>0</td>\n      <td>0</td>\n      <td>0</td>\n      <td>0</td>\n      <td>0</td>\n      <td>1</td>\n      <td>0</td>\n      <td>0</td>\n      <td>0</td>\n      <td>1</td>\n    </tr>\n    <tr>\n      <th>...</th>\n      <td>...</td>\n      <td>...</td>\n      <td>...</td>\n      <td>...</td>\n      <td>...</td>\n      <td>...</td>\n      <td>...</td>\n      <td>...</td>\n      <td>...</td>\n      <td>...</td>\n      <td>...</td>\n      <td>...</td>\n      <td>...</td>\n      <td>...</td>\n      <td>...</td>\n      <td>...</td>\n      <td>...</td>\n      <td>...</td>\n      <td>...</td>\n      <td>...</td>\n      <td>...</td>\n    </tr>\n    <tr>\n      <th>259</th>\n      <td>NaN</td>\n      <td>NaN</td>\n      <td>NaN</td>\n      <td>NaN</td>\n      <td>NaN</td>\n      <td>NaN</td>\n      <td>NaN</td>\n      <td>NaN</td>\n      <td>NaN</td>\n      <td>NaN</td>\n      <td>...</td>\n      <td>1</td>\n      <td>0</td>\n      <td>0</td>\n      <td>0</td>\n      <td>0</td>\n      <td>1</td>\n      <td>0</td>\n      <td>0</td>\n      <td>0</td>\n      <td>1</td>\n    </tr>\n    <tr>\n      <th>260</th>\n      <td>NaN</td>\n      <td>NaN</td>\n      <td>NaN</td>\n      <td>NaN</td>\n      <td>NaN</td>\n      <td>NaN</td>\n      <td>NaN</td>\n      <td>NaN</td>\n      <td>NaN</td>\n      <td>NaN</td>\n      <td>...</td>\n      <td>0</td>\n      <td>1</td>\n      <td>0</td>\n      <td>0</td>\n      <td>0</td>\n      <td>1</td>\n      <td>0</td>\n      <td>0</td>\n      <td>0</td>\n      <td>1</td>\n    </tr>\n    <tr>\n      <th>261</th>\n      <td>69999972.0</td>\n      <td>113749954.5</td>\n      <td>186199925.5</td>\n      <td>188999924.4</td>\n      <td>271599891.4</td>\n      <td>289449884.2</td>\n      <td>324449870.2</td>\n      <td>373099850.8</td>\n      <td>399699840.1</td>\n      <td>425599829.8</td>\n      <td>...</td>\n      <td>0</td>\n      <td>0</td>\n      <td>1</td>\n      <td>0</td>\n      <td>0</td>\n      <td>1</td>\n      <td>0</td>\n      <td>0</td>\n      <td>0</td>\n      <td>1</td>\n    </tr>\n    <tr>\n      <th>262</th>\n      <td>NaN</td>\n      <td>NaN</td>\n      <td>NaN</td>\n      <td>NaN</td>\n      <td>NaN</td>\n      <td>NaN</td>\n      <td>NaN</td>\n      <td>NaN</td>\n      <td>NaN</td>\n      <td>NaN</td>\n      <td>...</td>\n      <td>0</td>\n      <td>0</td>\n      <td>0</td>\n      <td>1</td>\n      <td>0</td>\n      <td>1</td>\n      <td>0</td>\n      <td>0</td>\n      <td>0</td>\n      <td>1</td>\n    </tr>\n    <tr>\n      <th>263</th>\n      <td>NaN</td>\n      <td>NaN</td>\n      <td>NaN</td>\n      <td>NaN</td>\n      <td>NaN</td>\n      <td>15600000.0</td>\n      <td>16950000.0</td>\n      <td>19000000.0</td>\n      <td>30600000.0</td>\n      <td>42350000.0</td>\n      <td>...</td>\n      <td>0</td>\n      <td>0</td>\n      <td>0</td>\n      <td>0</td>\n      <td>1</td>\n      <td>1</td>\n      <td>0</td>\n      <td>0</td>\n      <td>0</td>\n      <td>1</td>\n    </tr>\n  </tbody>\n</table>\n<p>264 rows × 592 columns</p>\n</div>"
          },
          "metadata": {}
        }
      ]
    },
    {
      "cell_type": "code",
      "source": "dummy_dt = pd.get_dummies(dt, drop_first=True)\ndummy_dt ",
      "metadata": {
        "tags": [],
        "collapsed": true,
        "jupyter": {
          "outputs_hidden": true
        },
        "trusted": true
      },
      "execution_count": 4,
      "outputs": [
        {
          "execution_count": 4,
          "output_type": "execute_result",
          "data": {
            "text/plain": "           1960         1961         1962         1963         1964  \\\n0           NaN          NaN          NaN          NaN          NaN   \n1           NaN          NaN          NaN          NaN          NaN   \n2           NaN          NaN          NaN          NaN          NaN   \n3           NaN          NaN          NaN          NaN          NaN   \n4           NaN          NaN          NaN          NaN          NaN   \n..          ...          ...          ...          ...          ...   \n259         NaN          NaN          NaN          NaN          NaN   \n260         NaN          NaN          NaN          NaN          NaN   \n261  69999972.0  113749954.5  186199925.5  188999924.4  271599891.4   \n262         NaN          NaN          NaN          NaN          NaN   \n263         NaN          NaN          NaN          NaN          NaN   \n\n            1965         1966         1967         1968         1969  ...  \\\n0            NaN          NaN          NaN          NaN          NaN  ...   \n1            NaN          NaN          NaN          NaN          NaN  ...   \n2            NaN          NaN          NaN          NaN          NaN  ...   \n3            NaN          NaN          NaN          NaN          NaN  ...   \n4            NaN          NaN          NaN          NaN          NaN  ...   \n..           ...          ...          ...          ...          ...  ...   \n259          NaN          NaN          NaN          NaN          NaN  ...   \n260          NaN          NaN          NaN          NaN          NaN  ...   \n261  289449884.2  324449870.2  373099850.8  399699840.1  425599829.8  ...   \n262          NaN          NaN          NaN          NaN          NaN  ...   \n263   15600000.0   16950000.0   19000000.0   30600000.0   42350000.0  ...   \n\n     Code_WLD  Code_WSM  Code_XKX  Code_YEM  Code_ZAF  Code_ZMB  Code_ZWE  \\\n0           0         0         0         0         0         0         0   \n1           0         0         0         0         0         0         0   \n2           0         0         0         0         0         0         0   \n3           0         0         0         0         0         0         0   \n4           0         0         0         0         0         0         0   \n..        ...       ...       ...       ...       ...       ...       ...   \n259         0         0         1         0         0         0         0   \n260         0         0         0         1         0         0         0   \n261         0         0         0         0         1         0         0   \n262         0         0         0         0         0         1         0   \n263         0         0         0         0         0         0         1   \n\n     Type_Regions Clubbed Economically  Type_Regions Clubbed Geographically  \\\n0                                    0                                    0   \n1                                    0                                    0   \n2                                    0                                    0   \n3                                    0                                    0   \n4                                    0                                    0   \n..                                 ...                                  ...   \n259                                  0                                    0   \n260                                  0                                    0   \n261                                  0                                    0   \n262                                  0                                    0   \n263                                  0                                    0   \n\n     Type_Semi Autonomous Region  \n0                              0  \n1                              0  \n2                              0  \n3                              0  \n4                              0  \n..                           ...  \n259                            0  \n260                            0  \n261                            0  \n262                            0  \n263                            0  \n\n[264 rows x 588 columns]",
            "text/html": "<div>\n<style scoped>\n    .dataframe tbody tr th:only-of-type {\n        vertical-align: middle;\n    }\n\n    .dataframe tbody tr th {\n        vertical-align: top;\n    }\n\n    .dataframe thead th {\n        text-align: right;\n    }\n</style>\n<table border=\"1\" class=\"dataframe\">\n  <thead>\n    <tr style=\"text-align: right;\">\n      <th></th>\n      <th>1960</th>\n      <th>1961</th>\n      <th>1962</th>\n      <th>1963</th>\n      <th>1964</th>\n      <th>1965</th>\n      <th>1966</th>\n      <th>1967</th>\n      <th>1968</th>\n      <th>1969</th>\n      <th>...</th>\n      <th>Code_WLD</th>\n      <th>Code_WSM</th>\n      <th>Code_XKX</th>\n      <th>Code_YEM</th>\n      <th>Code_ZAF</th>\n      <th>Code_ZMB</th>\n      <th>Code_ZWE</th>\n      <th>Type_Regions Clubbed Economically</th>\n      <th>Type_Regions Clubbed Geographically</th>\n      <th>Type_Semi Autonomous Region</th>\n    </tr>\n  </thead>\n  <tbody>\n    <tr>\n      <th>0</th>\n      <td>NaN</td>\n      <td>NaN</td>\n      <td>NaN</td>\n      <td>NaN</td>\n      <td>NaN</td>\n      <td>NaN</td>\n      <td>NaN</td>\n      <td>NaN</td>\n      <td>NaN</td>\n      <td>NaN</td>\n      <td>...</td>\n      <td>0</td>\n      <td>0</td>\n      <td>0</td>\n      <td>0</td>\n      <td>0</td>\n      <td>0</td>\n      <td>0</td>\n      <td>0</td>\n      <td>0</td>\n      <td>0</td>\n    </tr>\n    <tr>\n      <th>1</th>\n      <td>NaN</td>\n      <td>NaN</td>\n      <td>NaN</td>\n      <td>NaN</td>\n      <td>NaN</td>\n      <td>NaN</td>\n      <td>NaN</td>\n      <td>NaN</td>\n      <td>NaN</td>\n      <td>NaN</td>\n      <td>...</td>\n      <td>0</td>\n      <td>0</td>\n      <td>0</td>\n      <td>0</td>\n      <td>0</td>\n      <td>0</td>\n      <td>0</td>\n      <td>0</td>\n      <td>0</td>\n      <td>0</td>\n    </tr>\n    <tr>\n      <th>2</th>\n      <td>NaN</td>\n      <td>NaN</td>\n      <td>NaN</td>\n      <td>NaN</td>\n      <td>NaN</td>\n      <td>NaN</td>\n      <td>NaN</td>\n      <td>NaN</td>\n      <td>NaN</td>\n      <td>NaN</td>\n      <td>...</td>\n      <td>0</td>\n      <td>0</td>\n      <td>0</td>\n      <td>0</td>\n      <td>0</td>\n      <td>0</td>\n      <td>0</td>\n      <td>0</td>\n      <td>0</td>\n      <td>0</td>\n    </tr>\n    <tr>\n      <th>3</th>\n      <td>NaN</td>\n      <td>NaN</td>\n      <td>NaN</td>\n      <td>NaN</td>\n      <td>NaN</td>\n      <td>NaN</td>\n      <td>NaN</td>\n      <td>NaN</td>\n      <td>NaN</td>\n      <td>NaN</td>\n      <td>...</td>\n      <td>0</td>\n      <td>0</td>\n      <td>0</td>\n      <td>0</td>\n      <td>0</td>\n      <td>0</td>\n      <td>0</td>\n      <td>0</td>\n      <td>0</td>\n      <td>0</td>\n    </tr>\n    <tr>\n      <th>4</th>\n      <td>NaN</td>\n      <td>NaN</td>\n      <td>NaN</td>\n      <td>NaN</td>\n      <td>NaN</td>\n      <td>NaN</td>\n      <td>NaN</td>\n      <td>NaN</td>\n      <td>NaN</td>\n      <td>NaN</td>\n      <td>...</td>\n      <td>0</td>\n      <td>0</td>\n      <td>0</td>\n      <td>0</td>\n      <td>0</td>\n      <td>0</td>\n      <td>0</td>\n      <td>0</td>\n      <td>0</td>\n      <td>0</td>\n    </tr>\n    <tr>\n      <th>...</th>\n      <td>...</td>\n      <td>...</td>\n      <td>...</td>\n      <td>...</td>\n      <td>...</td>\n      <td>...</td>\n      <td>...</td>\n      <td>...</td>\n      <td>...</td>\n      <td>...</td>\n      <td>...</td>\n      <td>...</td>\n      <td>...</td>\n      <td>...</td>\n      <td>...</td>\n      <td>...</td>\n      <td>...</td>\n      <td>...</td>\n      <td>...</td>\n      <td>...</td>\n      <td>...</td>\n    </tr>\n    <tr>\n      <th>259</th>\n      <td>NaN</td>\n      <td>NaN</td>\n      <td>NaN</td>\n      <td>NaN</td>\n      <td>NaN</td>\n      <td>NaN</td>\n      <td>NaN</td>\n      <td>NaN</td>\n      <td>NaN</td>\n      <td>NaN</td>\n      <td>...</td>\n      <td>0</td>\n      <td>0</td>\n      <td>1</td>\n      <td>0</td>\n      <td>0</td>\n      <td>0</td>\n      <td>0</td>\n      <td>0</td>\n      <td>0</td>\n      <td>0</td>\n    </tr>\n    <tr>\n      <th>260</th>\n      <td>NaN</td>\n      <td>NaN</td>\n      <td>NaN</td>\n      <td>NaN</td>\n      <td>NaN</td>\n      <td>NaN</td>\n      <td>NaN</td>\n      <td>NaN</td>\n      <td>NaN</td>\n      <td>NaN</td>\n      <td>...</td>\n      <td>0</td>\n      <td>0</td>\n      <td>0</td>\n      <td>1</td>\n      <td>0</td>\n      <td>0</td>\n      <td>0</td>\n      <td>0</td>\n      <td>0</td>\n      <td>0</td>\n    </tr>\n    <tr>\n      <th>261</th>\n      <td>69999972.0</td>\n      <td>113749954.5</td>\n      <td>186199925.5</td>\n      <td>188999924.4</td>\n      <td>271599891.4</td>\n      <td>289449884.2</td>\n      <td>324449870.2</td>\n      <td>373099850.8</td>\n      <td>399699840.1</td>\n      <td>425599829.8</td>\n      <td>...</td>\n      <td>0</td>\n      <td>0</td>\n      <td>0</td>\n      <td>0</td>\n      <td>1</td>\n      <td>0</td>\n      <td>0</td>\n      <td>0</td>\n      <td>0</td>\n      <td>0</td>\n    </tr>\n    <tr>\n      <th>262</th>\n      <td>NaN</td>\n      <td>NaN</td>\n      <td>NaN</td>\n      <td>NaN</td>\n      <td>NaN</td>\n      <td>NaN</td>\n      <td>NaN</td>\n      <td>NaN</td>\n      <td>NaN</td>\n      <td>NaN</td>\n      <td>...</td>\n      <td>0</td>\n      <td>0</td>\n      <td>0</td>\n      <td>0</td>\n      <td>0</td>\n      <td>1</td>\n      <td>0</td>\n      <td>0</td>\n      <td>0</td>\n      <td>0</td>\n    </tr>\n    <tr>\n      <th>263</th>\n      <td>NaN</td>\n      <td>NaN</td>\n      <td>NaN</td>\n      <td>NaN</td>\n      <td>NaN</td>\n      <td>15600000.0</td>\n      <td>16950000.0</td>\n      <td>19000000.0</td>\n      <td>30600000.0</td>\n      <td>42350000.0</td>\n      <td>...</td>\n      <td>0</td>\n      <td>0</td>\n      <td>0</td>\n      <td>0</td>\n      <td>0</td>\n      <td>0</td>\n      <td>1</td>\n      <td>0</td>\n      <td>0</td>\n      <td>0</td>\n    </tr>\n  </tbody>\n</table>\n<p>264 rows × 588 columns</p>\n</div>"
          },
          "metadata": {}
        }
      ]
    },
    {
      "cell_type": "code",
      "source": "from sklearn.preprocessing import OneHotEncoder",
      "metadata": {
        "trusted": true
      },
      "execution_count": 5,
      "outputs": []
    },
    {
      "cell_type": "code",
      "source": "oh_enc = OneHotEncoder(sparse=False)",
      "metadata": {
        "trusted": true
      },
      "execution_count": 6,
      "outputs": []
    },
    {
      "cell_type": "code",
      "source": "oh_enc_arr=oh_enc.fit_transform(dt[['Code']])\noh_enc_arr",
      "metadata": {
        "trusted": true
      },
      "execution_count": 10,
      "outputs": [
        {
          "execution_count": 10,
          "output_type": "execute_result",
          "data": {
            "text/plain": "array([[1., 0., 0., ..., 0., 0., 0.],\n       [0., 1., 0., ..., 0., 0., 0.],\n       [0., 0., 1., ..., 0., 0., 0.],\n       ...,\n       [0., 0., 0., ..., 1., 0., 0.],\n       [0., 0., 0., ..., 0., 1., 0.],\n       [0., 0., 0., ..., 0., 0., 1.]])"
          },
          "metadata": {}
        }
      ]
    },
    {
      "cell_type": "code",
      "source": "",
      "metadata": {},
      "execution_count": null,
      "outputs": []
    }
  ]
}