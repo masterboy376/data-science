{
  "metadata": {
    "language_info": {
      "codemirror_mode": {
        "name": "python",
        "version": 3
      },
      "file_extension": ".py",
      "mimetype": "text/x-python",
      "name": "python",
      "nbconvert_exporter": "python",
      "pygments_lexer": "ipython3",
      "version": "3.8"
    },
    "kernelspec": {
      "name": "python",
      "display_name": "Python (Pyodide)",
      "language": "python"
    }
  },
  "nbformat_minor": 4,
  "nbformat": 4,
  "cells": [
    {
      "cell_type": "code",
      "source": "import pandas as pd\nfrom sklearn.preprocessing import LabelEncoder",
      "metadata": {
        "trusted": true
      },
      "execution_count": 1,
      "outputs": []
    },
    {
      "cell_type": "code",
      "source": "dt=pd.read_csv(\"./budget.csv\")\ndt.shape",
      "metadata": {
        "trusted": true
      },
      "execution_count": 2,
      "outputs": [
        {
          "execution_count": 2,
          "output_type": "execute_result",
          "data": {
            "text/plain": "(264, 63)"
          },
          "metadata": {}
        }
      ]
    },
    {
      "cell_type": "code",
      "source": "le=LabelEncoder()",
      "metadata": {
        "trusted": true
      },
      "execution_count": 3,
      "outputs": []
    },
    {
      "cell_type": "code",
      "source": "le.fit_transform(dt[[\"Code\"]])",
      "metadata": {
        "trusted": true
      },
      "execution_count": 4,
      "outputs": [
        {
          "name": "stderr",
          "text": "/lib/python3.10/site-packages/sklearn/preprocessing/_label.py:115: DataConversionWarning: A column-vector y was passed when a 1d array was expected. Please change the shape of y to (n_samples, ), for example using ravel().\n  y = column_or_1d(y, warn=True)\n",
          "output_type": "stream"
        },
        {
          "execution_count": 4,
          "output_type": "execute_result",
          "data": {
            "text/plain": "array([  0,   1,   2,   3,   4,   5,   6,   7,   8,   9,  10,  11,  12,\n        13,  14,  15,  16,  17,  18,  19,  20,  21,  22,  23,  24,  25,\n        26,  27,  28,  29,  30,  31,  32,  33,  34,  35,  36,  37,  38,\n        39,  40,  41,  42,  43,  44,  45,  46,  47,  48,  49,  50,  51,\n        52,  53,  54,  55,  56,  57,  58,  59,  60,  61,  62,  63,  64,\n        65,  66,  67,  68,  69,  70,  71,  72,  73,  74,  75,  76,  77,\n        78,  79,  80,  81,  82,  83,  84,  85,  86,  87,  88,  89,  90,\n        91,  92,  93,  94,  95,  96,  97,  98,  99, 100, 101, 102, 103,\n       104, 105, 106, 107, 108, 109, 110, 111, 112, 113, 114, 115, 116,\n       117, 118, 119, 120, 121, 122, 123, 124, 125, 126, 127, 128, 129,\n       130, 131, 132, 133, 134, 135, 136, 137, 138, 139, 140, 141, 142,\n       143, 144, 145, 146, 147, 148, 149, 150, 151, 152, 153, 154, 155,\n       156, 157, 158, 159, 160, 161, 162, 163, 164, 165, 166, 167, 168,\n       169, 170, 171, 172, 173, 174, 175, 176, 177, 178, 179, 180, 181,\n       182, 183, 184, 185, 186, 187, 188, 189, 190, 191, 192, 193, 194,\n       195, 196, 197, 198, 199, 200, 201, 202, 203, 204, 205, 206, 207,\n       208, 209, 210, 211, 212, 213, 214, 215, 216, 217, 218, 219, 220,\n       221, 222, 223, 224, 225, 226, 227, 228, 229, 230, 231, 232, 233,\n       234, 235, 236, 237, 238, 239, 240, 241, 242, 243, 244, 245, 246,\n       247, 248, 249, 250, 251, 252, 253, 254, 255, 256, 257, 258, 259,\n       260, 261, 262, 263])"
          },
          "metadata": {}
        }
      ]
    },
    {
      "cell_type": "code",
      "source": "dt['Code_Enc']=le.fit_transform(dt[[\"Code\"]])\ndt",
      "metadata": {
        "collapsed": true,
        "jupyter": {
          "outputs_hidden": true
        },
        "tags": [],
        "trusted": true
      },
      "execution_count": 5,
      "outputs": [
        {
          "name": "stderr",
          "text": "/lib/python3.10/site-packages/sklearn/preprocessing/_label.py:115: DataConversionWarning: A column-vector y was passed when a 1d array was expected. Please change the shape of y to (n_samples, ), for example using ravel().\n  y = column_or_1d(y, warn=True)\n",
          "output_type": "stream"
        },
        {
          "execution_count": 5,
          "output_type": "execute_result",
          "data": {
            "text/plain": "             Name Code     Type                      Indicator Name  \\\n0           Aruba  ABW  Country  Military expenditure (current USD)   \n1     Afghanistan  AFG  Country  Military expenditure (current USD)   \n2          Angola  AGO  Country  Military expenditure (current USD)   \n3         Albania  ALB  Country  Military expenditure (current USD)   \n4         Andorra  AND  Country  Military expenditure (current USD)   \n..            ...  ...      ...                                 ...   \n259        Kosovo  XKX  Country  Military expenditure (current USD)   \n260   Yemen, Rep.  YEM  Country  Military expenditure (current USD)   \n261  South Africa  ZAF  Country  Military expenditure (current USD)   \n262        Zambia  ZMB  Country  Military expenditure (current USD)   \n263      Zimbabwe  ZWE  Country  Military expenditure (current USD)   \n\n           1960         1961         1962         1963         1964  \\\n0           NaN          NaN          NaN          NaN          NaN   \n1           NaN          NaN          NaN          NaN          NaN   \n2           NaN          NaN          NaN          NaN          NaN   \n3           NaN          NaN          NaN          NaN          NaN   \n4           NaN          NaN          NaN          NaN          NaN   \n..          ...          ...          ...          ...          ...   \n259         NaN          NaN          NaN          NaN          NaN   \n260         NaN          NaN          NaN          NaN          NaN   \n261  69999972.0  113749954.5  186199925.5  188999924.4  271599891.4   \n262         NaN          NaN          NaN          NaN          NaN   \n263         NaN          NaN          NaN          NaN          NaN   \n\n            1965  ...          2010          2011          2012          2013  \\\n0            NaN  ...           NaN           NaN           NaN           NaN   \n1            NaN  ...  2.981469e+08  3.258070e+08  2.385834e+08  2.171941e+08   \n2            NaN  ...  3.500795e+09  3.639496e+09  4.144635e+09  6.090752e+09   \n3            NaN  ...  1.858932e+08  1.970068e+08  1.832047e+08  1.800155e+08   \n4            NaN  ...           NaN           NaN           NaN           NaN   \n..           ...  ...           ...           ...           ...           ...   \n259          NaN  ...  3.857812e+07  5.096886e+07  4.339040e+07  4.859768e+07   \n260          NaN  ...  1.448153e+09  1.612254e+09  1.618840e+09  1.648751e+09   \n261  289449884.2  ...  4.188168e+09  4.594154e+09  4.489590e+09  4.118208e+09   \n262          NaN  ...  2.801878e+08  3.091138e+08  3.463014e+08  3.813458e+08   \n263   15600000.0  ...  9.829300e+07  1.984380e+08  3.182720e+08  3.567000e+08   \n\n             2014          2015          2016          2017          2018  \\\n0             NaN           NaN           NaN           NaN           NaN   \n1    2.682271e+08  1.995186e+08  1.858783e+08  1.914071e+08  1.980863e+08   \n2    6.841864e+09  3.608299e+09  2.764055e+09  3.062873e+09  1.983614e+09   \n3    1.781204e+08  1.323507e+08  1.308532e+08  1.443827e+08  1.804887e+08   \n4             NaN           NaN           NaN           NaN           NaN   \n..            ...           ...           ...           ...           ...   \n259  5.357579e+07  4.998416e+07  5.193762e+07  5.726263e+07  6.334407e+07   \n260  1.714831e+09           NaN           NaN           NaN           NaN   \n261  3.892469e+09  3.488868e+09  3.169756e+09  3.638937e+09  3.639879e+09   \n262  4.436044e+08  3.724476e+08  2.995048e+08  3.396645e+08  3.780254e+08   \n263  3.681000e+08  3.766770e+08  3.580650e+08  3.405220e+08  4.203640e+08   \n\n     Code_Enc  \n0           0  \n1           1  \n2           2  \n3           3  \n4           4  \n..        ...  \n259       259  \n260       260  \n261       261  \n262       262  \n263       263  \n\n[264 rows x 64 columns]",
            "text/html": "<div>\n<style scoped>\n    .dataframe tbody tr th:only-of-type {\n        vertical-align: middle;\n    }\n\n    .dataframe tbody tr th {\n        vertical-align: top;\n    }\n\n    .dataframe thead th {\n        text-align: right;\n    }\n</style>\n<table border=\"1\" class=\"dataframe\">\n  <thead>\n    <tr style=\"text-align: right;\">\n      <th></th>\n      <th>Name</th>\n      <th>Code</th>\n      <th>Type</th>\n      <th>Indicator Name</th>\n      <th>1960</th>\n      <th>1961</th>\n      <th>1962</th>\n      <th>1963</th>\n      <th>1964</th>\n      <th>1965</th>\n      <th>...</th>\n      <th>2010</th>\n      <th>2011</th>\n      <th>2012</th>\n      <th>2013</th>\n      <th>2014</th>\n      <th>2015</th>\n      <th>2016</th>\n      <th>2017</th>\n      <th>2018</th>\n      <th>Code_Enc</th>\n    </tr>\n  </thead>\n  <tbody>\n    <tr>\n      <th>0</th>\n      <td>Aruba</td>\n      <td>ABW</td>\n      <td>Country</td>\n      <td>Military expenditure (current USD)</td>\n      <td>NaN</td>\n      <td>NaN</td>\n      <td>NaN</td>\n      <td>NaN</td>\n      <td>NaN</td>\n      <td>NaN</td>\n      <td>...</td>\n      <td>NaN</td>\n      <td>NaN</td>\n      <td>NaN</td>\n      <td>NaN</td>\n      <td>NaN</td>\n      <td>NaN</td>\n      <td>NaN</td>\n      <td>NaN</td>\n      <td>NaN</td>\n      <td>0</td>\n    </tr>\n    <tr>\n      <th>1</th>\n      <td>Afghanistan</td>\n      <td>AFG</td>\n      <td>Country</td>\n      <td>Military expenditure (current USD)</td>\n      <td>NaN</td>\n      <td>NaN</td>\n      <td>NaN</td>\n      <td>NaN</td>\n      <td>NaN</td>\n      <td>NaN</td>\n      <td>...</td>\n      <td>2.981469e+08</td>\n      <td>3.258070e+08</td>\n      <td>2.385834e+08</td>\n      <td>2.171941e+08</td>\n      <td>2.682271e+08</td>\n      <td>1.995186e+08</td>\n      <td>1.858783e+08</td>\n      <td>1.914071e+08</td>\n      <td>1.980863e+08</td>\n      <td>1</td>\n    </tr>\n    <tr>\n      <th>2</th>\n      <td>Angola</td>\n      <td>AGO</td>\n      <td>Country</td>\n      <td>Military expenditure (current USD)</td>\n      <td>NaN</td>\n      <td>NaN</td>\n      <td>NaN</td>\n      <td>NaN</td>\n      <td>NaN</td>\n      <td>NaN</td>\n      <td>...</td>\n      <td>3.500795e+09</td>\n      <td>3.639496e+09</td>\n      <td>4.144635e+09</td>\n      <td>6.090752e+09</td>\n      <td>6.841864e+09</td>\n      <td>3.608299e+09</td>\n      <td>2.764055e+09</td>\n      <td>3.062873e+09</td>\n      <td>1.983614e+09</td>\n      <td>2</td>\n    </tr>\n    <tr>\n      <th>3</th>\n      <td>Albania</td>\n      <td>ALB</td>\n      <td>Country</td>\n      <td>Military expenditure (current USD)</td>\n      <td>NaN</td>\n      <td>NaN</td>\n      <td>NaN</td>\n      <td>NaN</td>\n      <td>NaN</td>\n      <td>NaN</td>\n      <td>...</td>\n      <td>1.858932e+08</td>\n      <td>1.970068e+08</td>\n      <td>1.832047e+08</td>\n      <td>1.800155e+08</td>\n      <td>1.781204e+08</td>\n      <td>1.323507e+08</td>\n      <td>1.308532e+08</td>\n      <td>1.443827e+08</td>\n      <td>1.804887e+08</td>\n      <td>3</td>\n    </tr>\n    <tr>\n      <th>4</th>\n      <td>Andorra</td>\n      <td>AND</td>\n      <td>Country</td>\n      <td>Military expenditure (current USD)</td>\n      <td>NaN</td>\n      <td>NaN</td>\n      <td>NaN</td>\n      <td>NaN</td>\n      <td>NaN</td>\n      <td>NaN</td>\n      <td>...</td>\n      <td>NaN</td>\n      <td>NaN</td>\n      <td>NaN</td>\n      <td>NaN</td>\n      <td>NaN</td>\n      <td>NaN</td>\n      <td>NaN</td>\n      <td>NaN</td>\n      <td>NaN</td>\n      <td>4</td>\n    </tr>\n    <tr>\n      <th>...</th>\n      <td>...</td>\n      <td>...</td>\n      <td>...</td>\n      <td>...</td>\n      <td>...</td>\n      <td>...</td>\n      <td>...</td>\n      <td>...</td>\n      <td>...</td>\n      <td>...</td>\n      <td>...</td>\n      <td>...</td>\n      <td>...</td>\n      <td>...</td>\n      <td>...</td>\n      <td>...</td>\n      <td>...</td>\n      <td>...</td>\n      <td>...</td>\n      <td>...</td>\n      <td>...</td>\n    </tr>\n    <tr>\n      <th>259</th>\n      <td>Kosovo</td>\n      <td>XKX</td>\n      <td>Country</td>\n      <td>Military expenditure (current USD)</td>\n      <td>NaN</td>\n      <td>NaN</td>\n      <td>NaN</td>\n      <td>NaN</td>\n      <td>NaN</td>\n      <td>NaN</td>\n      <td>...</td>\n      <td>3.857812e+07</td>\n      <td>5.096886e+07</td>\n      <td>4.339040e+07</td>\n      <td>4.859768e+07</td>\n      <td>5.357579e+07</td>\n      <td>4.998416e+07</td>\n      <td>5.193762e+07</td>\n      <td>5.726263e+07</td>\n      <td>6.334407e+07</td>\n      <td>259</td>\n    </tr>\n    <tr>\n      <th>260</th>\n      <td>Yemen, Rep.</td>\n      <td>YEM</td>\n      <td>Country</td>\n      <td>Military expenditure (current USD)</td>\n      <td>NaN</td>\n      <td>NaN</td>\n      <td>NaN</td>\n      <td>NaN</td>\n      <td>NaN</td>\n      <td>NaN</td>\n      <td>...</td>\n      <td>1.448153e+09</td>\n      <td>1.612254e+09</td>\n      <td>1.618840e+09</td>\n      <td>1.648751e+09</td>\n      <td>1.714831e+09</td>\n      <td>NaN</td>\n      <td>NaN</td>\n      <td>NaN</td>\n      <td>NaN</td>\n      <td>260</td>\n    </tr>\n    <tr>\n      <th>261</th>\n      <td>South Africa</td>\n      <td>ZAF</td>\n      <td>Country</td>\n      <td>Military expenditure (current USD)</td>\n      <td>69999972.0</td>\n      <td>113749954.5</td>\n      <td>186199925.5</td>\n      <td>188999924.4</td>\n      <td>271599891.4</td>\n      <td>289449884.2</td>\n      <td>...</td>\n      <td>4.188168e+09</td>\n      <td>4.594154e+09</td>\n      <td>4.489590e+09</td>\n      <td>4.118208e+09</td>\n      <td>3.892469e+09</td>\n      <td>3.488868e+09</td>\n      <td>3.169756e+09</td>\n      <td>3.638937e+09</td>\n      <td>3.639879e+09</td>\n      <td>261</td>\n    </tr>\n    <tr>\n      <th>262</th>\n      <td>Zambia</td>\n      <td>ZMB</td>\n      <td>Country</td>\n      <td>Military expenditure (current USD)</td>\n      <td>NaN</td>\n      <td>NaN</td>\n      <td>NaN</td>\n      <td>NaN</td>\n      <td>NaN</td>\n      <td>NaN</td>\n      <td>...</td>\n      <td>2.801878e+08</td>\n      <td>3.091138e+08</td>\n      <td>3.463014e+08</td>\n      <td>3.813458e+08</td>\n      <td>4.436044e+08</td>\n      <td>3.724476e+08</td>\n      <td>2.995048e+08</td>\n      <td>3.396645e+08</td>\n      <td>3.780254e+08</td>\n      <td>262</td>\n    </tr>\n    <tr>\n      <th>263</th>\n      <td>Zimbabwe</td>\n      <td>ZWE</td>\n      <td>Country</td>\n      <td>Military expenditure (current USD)</td>\n      <td>NaN</td>\n      <td>NaN</td>\n      <td>NaN</td>\n      <td>NaN</td>\n      <td>NaN</td>\n      <td>15600000.0</td>\n      <td>...</td>\n      <td>9.829300e+07</td>\n      <td>1.984380e+08</td>\n      <td>3.182720e+08</td>\n      <td>3.567000e+08</td>\n      <td>3.681000e+08</td>\n      <td>3.766770e+08</td>\n      <td>3.580650e+08</td>\n      <td>3.405220e+08</td>\n      <td>4.203640e+08</td>\n      <td>263</td>\n    </tr>\n  </tbody>\n</table>\n<p>264 rows × 64 columns</p>\n</div>"
          },
          "metadata": {}
        }
      ]
    },
    {
      "cell_type": "code",
      "source": "dt[\"Code\"].value_counts()",
      "metadata": {
        "trusted": true
      },
      "execution_count": 6,
      "outputs": [
        {
          "execution_count": 6,
          "output_type": "execute_result",
          "data": {
            "text/plain": "ABW    1\nOSS    1\nMYS    1\nNAC    1\nNAM    1\n      ..\nHIC    1\nHKG    1\nHND    1\nHPC    1\nZWE    1\nName: Code, Length: 264, dtype: int64"
          },
          "metadata": {}
        }
      ]
    },
    {
      "cell_type": "code",
      "source": "order_label={\"ABW\":1,\"OSS\":2}",
      "metadata": {
        "trusted": true
      },
      "execution_count": 7,
      "outputs": []
    },
    {
      "cell_type": "code",
      "source": "dt[\"Code_O_Enc\"]=dt[\"Code\"].map(order_label)",
      "metadata": {
        "trusted": true
      },
      "execution_count": 9,
      "outputs": []
    },
    {
      "cell_type": "code",
      "source": "dt",
      "metadata": {
        "trusted": true
      },
      "execution_count": 10,
      "outputs": [
        {
          "execution_count": 10,
          "output_type": "execute_result",
          "data": {
            "text/plain": "             Name Code     Type                      Indicator Name  \\\n0           Aruba  ABW  Country  Military expenditure (current USD)   \n1     Afghanistan  AFG  Country  Military expenditure (current USD)   \n2          Angola  AGO  Country  Military expenditure (current USD)   \n3         Albania  ALB  Country  Military expenditure (current USD)   \n4         Andorra  AND  Country  Military expenditure (current USD)   \n..            ...  ...      ...                                 ...   \n259        Kosovo  XKX  Country  Military expenditure (current USD)   \n260   Yemen, Rep.  YEM  Country  Military expenditure (current USD)   \n261  South Africa  ZAF  Country  Military expenditure (current USD)   \n262        Zambia  ZMB  Country  Military expenditure (current USD)   \n263      Zimbabwe  ZWE  Country  Military expenditure (current USD)   \n\n           1960         1961         1962         1963         1964  \\\n0           NaN          NaN          NaN          NaN          NaN   \n1           NaN          NaN          NaN          NaN          NaN   \n2           NaN          NaN          NaN          NaN          NaN   \n3           NaN          NaN          NaN          NaN          NaN   \n4           NaN          NaN          NaN          NaN          NaN   \n..          ...          ...          ...          ...          ...   \n259         NaN          NaN          NaN          NaN          NaN   \n260         NaN          NaN          NaN          NaN          NaN   \n261  69999972.0  113749954.5  186199925.5  188999924.4  271599891.4   \n262         NaN          NaN          NaN          NaN          NaN   \n263         NaN          NaN          NaN          NaN          NaN   \n\n            1965  ...          2011          2012          2013          2014  \\\n0            NaN  ...           NaN           NaN           NaN           NaN   \n1            NaN  ...  3.258070e+08  2.385834e+08  2.171941e+08  2.682271e+08   \n2            NaN  ...  3.639496e+09  4.144635e+09  6.090752e+09  6.841864e+09   \n3            NaN  ...  1.970068e+08  1.832047e+08  1.800155e+08  1.781204e+08   \n4            NaN  ...           NaN           NaN           NaN           NaN   \n..           ...  ...           ...           ...           ...           ...   \n259          NaN  ...  5.096886e+07  4.339040e+07  4.859768e+07  5.357579e+07   \n260          NaN  ...  1.612254e+09  1.618840e+09  1.648751e+09  1.714831e+09   \n261  289449884.2  ...  4.594154e+09  4.489590e+09  4.118208e+09  3.892469e+09   \n262          NaN  ...  3.091138e+08  3.463014e+08  3.813458e+08  4.436044e+08   \n263   15600000.0  ...  1.984380e+08  3.182720e+08  3.567000e+08  3.681000e+08   \n\n             2015          2016          2017          2018  Code_Enc  \\\n0             NaN           NaN           NaN           NaN         0   \n1    1.995186e+08  1.858783e+08  1.914071e+08  1.980863e+08         1   \n2    3.608299e+09  2.764055e+09  3.062873e+09  1.983614e+09         2   \n3    1.323507e+08  1.308532e+08  1.443827e+08  1.804887e+08         3   \n4             NaN           NaN           NaN           NaN         4   \n..            ...           ...           ...           ...       ...   \n259  4.998416e+07  5.193762e+07  5.726263e+07  6.334407e+07       259   \n260           NaN           NaN           NaN           NaN       260   \n261  3.488868e+09  3.169756e+09  3.638937e+09  3.639879e+09       261   \n262  3.724476e+08  2.995048e+08  3.396645e+08  3.780254e+08       262   \n263  3.766770e+08  3.580650e+08  3.405220e+08  4.203640e+08       263   \n\n     Code_O_Enc  \n0           1.0  \n1           NaN  \n2           NaN  \n3           NaN  \n4           NaN  \n..          ...  \n259         NaN  \n260         NaN  \n261         NaN  \n262         NaN  \n263         NaN  \n\n[264 rows x 65 columns]",
            "text/html": "<div>\n<style scoped>\n    .dataframe tbody tr th:only-of-type {\n        vertical-align: middle;\n    }\n\n    .dataframe tbody tr th {\n        vertical-align: top;\n    }\n\n    .dataframe thead th {\n        text-align: right;\n    }\n</style>\n<table border=\"1\" class=\"dataframe\">\n  <thead>\n    <tr style=\"text-align: right;\">\n      <th></th>\n      <th>Name</th>\n      <th>Code</th>\n      <th>Type</th>\n      <th>Indicator Name</th>\n      <th>1960</th>\n      <th>1961</th>\n      <th>1962</th>\n      <th>1963</th>\n      <th>1964</th>\n      <th>1965</th>\n      <th>...</th>\n      <th>2011</th>\n      <th>2012</th>\n      <th>2013</th>\n      <th>2014</th>\n      <th>2015</th>\n      <th>2016</th>\n      <th>2017</th>\n      <th>2018</th>\n      <th>Code_Enc</th>\n      <th>Code_O_Enc</th>\n    </tr>\n  </thead>\n  <tbody>\n    <tr>\n      <th>0</th>\n      <td>Aruba</td>\n      <td>ABW</td>\n      <td>Country</td>\n      <td>Military expenditure (current USD)</td>\n      <td>NaN</td>\n      <td>NaN</td>\n      <td>NaN</td>\n      <td>NaN</td>\n      <td>NaN</td>\n      <td>NaN</td>\n      <td>...</td>\n      <td>NaN</td>\n      <td>NaN</td>\n      <td>NaN</td>\n      <td>NaN</td>\n      <td>NaN</td>\n      <td>NaN</td>\n      <td>NaN</td>\n      <td>NaN</td>\n      <td>0</td>\n      <td>1.0</td>\n    </tr>\n    <tr>\n      <th>1</th>\n      <td>Afghanistan</td>\n      <td>AFG</td>\n      <td>Country</td>\n      <td>Military expenditure (current USD)</td>\n      <td>NaN</td>\n      <td>NaN</td>\n      <td>NaN</td>\n      <td>NaN</td>\n      <td>NaN</td>\n      <td>NaN</td>\n      <td>...</td>\n      <td>3.258070e+08</td>\n      <td>2.385834e+08</td>\n      <td>2.171941e+08</td>\n      <td>2.682271e+08</td>\n      <td>1.995186e+08</td>\n      <td>1.858783e+08</td>\n      <td>1.914071e+08</td>\n      <td>1.980863e+08</td>\n      <td>1</td>\n      <td>NaN</td>\n    </tr>\n    <tr>\n      <th>2</th>\n      <td>Angola</td>\n      <td>AGO</td>\n      <td>Country</td>\n      <td>Military expenditure (current USD)</td>\n      <td>NaN</td>\n      <td>NaN</td>\n      <td>NaN</td>\n      <td>NaN</td>\n      <td>NaN</td>\n      <td>NaN</td>\n      <td>...</td>\n      <td>3.639496e+09</td>\n      <td>4.144635e+09</td>\n      <td>6.090752e+09</td>\n      <td>6.841864e+09</td>\n      <td>3.608299e+09</td>\n      <td>2.764055e+09</td>\n      <td>3.062873e+09</td>\n      <td>1.983614e+09</td>\n      <td>2</td>\n      <td>NaN</td>\n    </tr>\n    <tr>\n      <th>3</th>\n      <td>Albania</td>\n      <td>ALB</td>\n      <td>Country</td>\n      <td>Military expenditure (current USD)</td>\n      <td>NaN</td>\n      <td>NaN</td>\n      <td>NaN</td>\n      <td>NaN</td>\n      <td>NaN</td>\n      <td>NaN</td>\n      <td>...</td>\n      <td>1.970068e+08</td>\n      <td>1.832047e+08</td>\n      <td>1.800155e+08</td>\n      <td>1.781204e+08</td>\n      <td>1.323507e+08</td>\n      <td>1.308532e+08</td>\n      <td>1.443827e+08</td>\n      <td>1.804887e+08</td>\n      <td>3</td>\n      <td>NaN</td>\n    </tr>\n    <tr>\n      <th>4</th>\n      <td>Andorra</td>\n      <td>AND</td>\n      <td>Country</td>\n      <td>Military expenditure (current USD)</td>\n      <td>NaN</td>\n      <td>NaN</td>\n      <td>NaN</td>\n      <td>NaN</td>\n      <td>NaN</td>\n      <td>NaN</td>\n      <td>...</td>\n      <td>NaN</td>\n      <td>NaN</td>\n      <td>NaN</td>\n      <td>NaN</td>\n      <td>NaN</td>\n      <td>NaN</td>\n      <td>NaN</td>\n      <td>NaN</td>\n      <td>4</td>\n      <td>NaN</td>\n    </tr>\n    <tr>\n      <th>...</th>\n      <td>...</td>\n      <td>...</td>\n      <td>...</td>\n      <td>...</td>\n      <td>...</td>\n      <td>...</td>\n      <td>...</td>\n      <td>...</td>\n      <td>...</td>\n      <td>...</td>\n      <td>...</td>\n      <td>...</td>\n      <td>...</td>\n      <td>...</td>\n      <td>...</td>\n      <td>...</td>\n      <td>...</td>\n      <td>...</td>\n      <td>...</td>\n      <td>...</td>\n      <td>...</td>\n    </tr>\n    <tr>\n      <th>259</th>\n      <td>Kosovo</td>\n      <td>XKX</td>\n      <td>Country</td>\n      <td>Military expenditure (current USD)</td>\n      <td>NaN</td>\n      <td>NaN</td>\n      <td>NaN</td>\n      <td>NaN</td>\n      <td>NaN</td>\n      <td>NaN</td>\n      <td>...</td>\n      <td>5.096886e+07</td>\n      <td>4.339040e+07</td>\n      <td>4.859768e+07</td>\n      <td>5.357579e+07</td>\n      <td>4.998416e+07</td>\n      <td>5.193762e+07</td>\n      <td>5.726263e+07</td>\n      <td>6.334407e+07</td>\n      <td>259</td>\n      <td>NaN</td>\n    </tr>\n    <tr>\n      <th>260</th>\n      <td>Yemen, Rep.</td>\n      <td>YEM</td>\n      <td>Country</td>\n      <td>Military expenditure (current USD)</td>\n      <td>NaN</td>\n      <td>NaN</td>\n      <td>NaN</td>\n      <td>NaN</td>\n      <td>NaN</td>\n      <td>NaN</td>\n      <td>...</td>\n      <td>1.612254e+09</td>\n      <td>1.618840e+09</td>\n      <td>1.648751e+09</td>\n      <td>1.714831e+09</td>\n      <td>NaN</td>\n      <td>NaN</td>\n      <td>NaN</td>\n      <td>NaN</td>\n      <td>260</td>\n      <td>NaN</td>\n    </tr>\n    <tr>\n      <th>261</th>\n      <td>South Africa</td>\n      <td>ZAF</td>\n      <td>Country</td>\n      <td>Military expenditure (current USD)</td>\n      <td>69999972.0</td>\n      <td>113749954.5</td>\n      <td>186199925.5</td>\n      <td>188999924.4</td>\n      <td>271599891.4</td>\n      <td>289449884.2</td>\n      <td>...</td>\n      <td>4.594154e+09</td>\n      <td>4.489590e+09</td>\n      <td>4.118208e+09</td>\n      <td>3.892469e+09</td>\n      <td>3.488868e+09</td>\n      <td>3.169756e+09</td>\n      <td>3.638937e+09</td>\n      <td>3.639879e+09</td>\n      <td>261</td>\n      <td>NaN</td>\n    </tr>\n    <tr>\n      <th>262</th>\n      <td>Zambia</td>\n      <td>ZMB</td>\n      <td>Country</td>\n      <td>Military expenditure (current USD)</td>\n      <td>NaN</td>\n      <td>NaN</td>\n      <td>NaN</td>\n      <td>NaN</td>\n      <td>NaN</td>\n      <td>NaN</td>\n      <td>...</td>\n      <td>3.091138e+08</td>\n      <td>3.463014e+08</td>\n      <td>3.813458e+08</td>\n      <td>4.436044e+08</td>\n      <td>3.724476e+08</td>\n      <td>2.995048e+08</td>\n      <td>3.396645e+08</td>\n      <td>3.780254e+08</td>\n      <td>262</td>\n      <td>NaN</td>\n    </tr>\n    <tr>\n      <th>263</th>\n      <td>Zimbabwe</td>\n      <td>ZWE</td>\n      <td>Country</td>\n      <td>Military expenditure (current USD)</td>\n      <td>NaN</td>\n      <td>NaN</td>\n      <td>NaN</td>\n      <td>NaN</td>\n      <td>NaN</td>\n      <td>15600000.0</td>\n      <td>...</td>\n      <td>1.984380e+08</td>\n      <td>3.182720e+08</td>\n      <td>3.567000e+08</td>\n      <td>3.681000e+08</td>\n      <td>3.766770e+08</td>\n      <td>3.580650e+08</td>\n      <td>3.405220e+08</td>\n      <td>4.203640e+08</td>\n      <td>263</td>\n      <td>NaN</td>\n    </tr>\n  </tbody>\n</table>\n<p>264 rows × 65 columns</p>\n</div>"
          },
          "metadata": {}
        }
      ]
    },
    {
      "cell_type": "code",
      "source": "",
      "metadata": {},
      "execution_count": null,
      "outputs": []
    }
  ]
}